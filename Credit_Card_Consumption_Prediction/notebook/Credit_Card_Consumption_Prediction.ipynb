{
 "cells": [
  {
   "cell_type": "markdown",
   "metadata": {},
   "source": [
    "## Importing libraries"
   ]
  },
  {
   "cell_type": "code",
   "execution_count": 67,
   "metadata": {},
   "outputs": [],
   "source": [
    "# Essentials\n",
    "import numpy as np\n",
    "import pandas as pd\n",
    "\n",
    "# Plots\n",
    "import matplotlib.pyplot as plt\n",
    "import seaborn as sns\n",
    "%matplotlib inline\n",
    "\n",
    "# Models\n",
    "from sklearn.linear_model import LinearRegression\n",
    "from sklearn.neighbors import KNeighborsRegressor\n",
    "from sklearn.tree import DecisionTreeRegressor\n",
    "from sklearn.ensemble import RandomForestRegressor\n",
    "from xgboost import XGBRegressor\n",
    "from sklearn.linear_model import Ridge\n",
    "from sklearn.linear_model import Lasso\n",
    "\n",
    "# Statistics\n",
    "from scipy.stats import skew, norm\n",
    "from scipy.special import boxcox1p\n",
    "from scipy.stats import boxcox_normmax\n",
    "\n",
    "# Misc\n",
    "from sklearn.model_selection import GridSearchCV\n",
    "from sklearn.model_selection import KFold, cross_val_score\n",
    "from sklearn.metrics import mean_absolute_error\n",
    "from sklearn.metrics import mean_squared_error\n",
    "from sklearn.model_selection import train_test_split\n",
    "from sklearn.preprocessing import LabelEncoder\n",
    "from sklearn.pipeline import make_pipeline\n",
    "from sklearn.preprocessing import scale\n",
    "from sklearn.preprocessing import StandardScaler\n",
    "from numpy import sqrt\n",
    "\n",
    "# Ignore useless warnings\n",
    "import warnings\n",
    "warnings.filterwarnings(action=\"ignore\")\n",
    "\n",
    "pd.set_option('display.max_columns', None)"
   ]
  },
  {
   "cell_type": "code",
   "execution_count": null,
   "metadata": {},
   "outputs": [],
   "source": []
  },
  {
   "cell_type": "code",
   "execution_count": 139,
   "metadata": {},
   "outputs": [],
   "source": [
    "# Data Loading\n",
    "\n",
    "train = pd.read_csv('C:/Users/admin/Desktop/data/Data Sets/Credit card cunsumption/train.csv')\n",
    "test = pd.read_csv('C:/Users/admin/Desktop/data/Data Sets/Credit card cunsumption/test.csv')"
   ]
  },
  {
   "cell_type": "code",
   "execution_count": 3,
   "metadata": {},
   "outputs": [
    {
     "data": {
      "text/html": [
       "<div>\n",
       "<style scoped>\n",
       "    .dataframe tbody tr th:only-of-type {\n",
       "        vertical-align: middle;\n",
       "    }\n",
       "\n",
       "    .dataframe tbody tr th {\n",
       "        vertical-align: top;\n",
       "    }\n",
       "\n",
       "    .dataframe thead th {\n",
       "        text-align: right;\n",
       "    }\n",
       "</style>\n",
       "<table border=\"1\" class=\"dataframe\">\n",
       "  <thead>\n",
       "    <tr style=\"text-align: right;\">\n",
       "      <th></th>\n",
       "      <th>ID</th>\n",
       "      <th>account_type</th>\n",
       "      <th>gender</th>\n",
       "      <th>age</th>\n",
       "      <th>region_code</th>\n",
       "      <th>cc_cons_apr</th>\n",
       "      <th>dc_cons_apr</th>\n",
       "      <th>cc_cons_may</th>\n",
       "      <th>dc_cons_may</th>\n",
       "      <th>cc_cons_jun</th>\n",
       "      <th>dc_cons_jun</th>\n",
       "      <th>cc_count_apr</th>\n",
       "      <th>cc_count_may</th>\n",
       "      <th>cc_count_jun</th>\n",
       "      <th>dc_count_apr</th>\n",
       "      <th>dc_count_may</th>\n",
       "      <th>dc_count_jun</th>\n",
       "      <th>card_lim</th>\n",
       "      <th>personal_loan_active</th>\n",
       "      <th>vehicle_loan_active</th>\n",
       "      <th>personal_loan_closed</th>\n",
       "      <th>vehicle_loan_closed</th>\n",
       "      <th>investment_1</th>\n",
       "      <th>investment_2</th>\n",
       "      <th>investment_3</th>\n",
       "      <th>investment_4</th>\n",
       "      <th>debit_amount_apr</th>\n",
       "      <th>credit_amount_apr</th>\n",
       "      <th>debit_count_apr</th>\n",
       "      <th>credit_count_apr</th>\n",
       "      <th>max_credit_amount_apr</th>\n",
       "      <th>debit_amount_may</th>\n",
       "      <th>credit_amount_may</th>\n",
       "      <th>credit_count_may</th>\n",
       "      <th>debit_count_may</th>\n",
       "      <th>max_credit_amount_may</th>\n",
       "      <th>debit_amount_jun</th>\n",
       "      <th>credit_amount_jun</th>\n",
       "      <th>credit_count_jun</th>\n",
       "      <th>debit_count_jun</th>\n",
       "      <th>max_credit_amount_jun</th>\n",
       "      <th>loan_enq</th>\n",
       "      <th>emi_active</th>\n",
       "      <th>cc_cons</th>\n",
       "    </tr>\n",
       "  </thead>\n",
       "  <tbody>\n",
       "    <tr>\n",
       "      <th>0</th>\n",
       "      <td>12554</td>\n",
       "      <td>current</td>\n",
       "      <td>M</td>\n",
       "      <td>35</td>\n",
       "      <td>708</td>\n",
       "      <td>24893.00</td>\n",
       "      <td>378.00</td>\n",
       "      <td>10288.00</td>\n",
       "      <td>29664.00</td>\n",
       "      <td>16291.40</td>\n",
       "      <td>11432.00</td>\n",
       "      <td>2.0</td>\n",
       "      <td>26.0</td>\n",
       "      <td>10.0</td>\n",
       "      <td>48.0</td>\n",
       "      <td>14.0</td>\n",
       "      <td>47.0</td>\n",
       "      <td>430000.0</td>\n",
       "      <td>1.0</td>\n",
       "      <td>1.0</td>\n",
       "      <td>1.0</td>\n",
       "      <td>1.0</td>\n",
       "      <td>593.20</td>\n",
       "      <td>1244.14</td>\n",
       "      <td>787.0</td>\n",
       "      <td>6885.0</td>\n",
       "      <td>85919.48</td>\n",
       "      <td>25192.00</td>\n",
       "      <td>24.0</td>\n",
       "      <td>6.0</td>\n",
       "      <td>25296.0</td>\n",
       "      <td>11527.50</td>\n",
       "      <td>191777.13</td>\n",
       "      <td>2.0</td>\n",
       "      <td>40.0</td>\n",
       "      <td>24563.0</td>\n",
       "      <td>30051.32</td>\n",
       "      <td>12761.0</td>\n",
       "      <td>2.0</td>\n",
       "      <td>65.0</td>\n",
       "      <td>50836.0</td>\n",
       "      <td>Y</td>\n",
       "      <td>1674.09</td>\n",
       "      <td>20014.0</td>\n",
       "    </tr>\n",
       "    <tr>\n",
       "      <th>1</th>\n",
       "      <td>17645</td>\n",
       "      <td>current</td>\n",
       "      <td>M</td>\n",
       "      <td>35</td>\n",
       "      <td>123</td>\n",
       "      <td>18941.62</td>\n",
       "      <td>966.00</td>\n",
       "      <td>20672.00</td>\n",
       "      <td>287.00</td>\n",
       "      <td>4217.00</td>\n",
       "      <td>885.00</td>\n",
       "      <td>1.0</td>\n",
       "      <td>7.0</td>\n",
       "      <td>13.0</td>\n",
       "      <td>3.0</td>\n",
       "      <td>21.0</td>\n",
       "      <td>31.0</td>\n",
       "      <td>127500.0</td>\n",
       "      <td>1.0</td>\n",
       "      <td>1.0</td>\n",
       "      <td>1.0</td>\n",
       "      <td>1.0</td>\n",
       "      <td>213557.15</td>\n",
       "      <td>172678.56</td>\n",
       "      <td>90525.0</td>\n",
       "      <td>1500.0</td>\n",
       "      <td>12255.75</td>\n",
       "      <td>88693.37</td>\n",
       "      <td>35.0</td>\n",
       "      <td>36.0</td>\n",
       "      <td>80750.0</td>\n",
       "      <td>92276.57</td>\n",
       "      <td>71162.00</td>\n",
       "      <td>2.0</td>\n",
       "      <td>78.0</td>\n",
       "      <td>23948.0</td>\n",
       "      <td>42119.05</td>\n",
       "      <td>76206.0</td>\n",
       "      <td>21.0</td>\n",
       "      <td>63.0</td>\n",
       "      <td>23226.0</td>\n",
       "      <td>Y</td>\n",
       "      <td>13043.34</td>\n",
       "      <td>10173.0</td>\n",
       "    </tr>\n",
       "    <tr>\n",
       "      <th>2</th>\n",
       "      <td>7604</td>\n",
       "      <td>current</td>\n",
       "      <td>M</td>\n",
       "      <td>55</td>\n",
       "      <td>802</td>\n",
       "      <td>5678.87</td>\n",
       "      <td>2724.00</td>\n",
       "      <td>1964.50</td>\n",
       "      <td>3933.11</td>\n",
       "      <td>23956.25</td>\n",
       "      <td>5168.00</td>\n",
       "      <td>43.0</td>\n",
       "      <td>32.0</td>\n",
       "      <td>102.0</td>\n",
       "      <td>4.0</td>\n",
       "      <td>1.0</td>\n",
       "      <td>80.0</td>\n",
       "      <td>199999.0</td>\n",
       "      <td>1.0</td>\n",
       "      <td>1.0</td>\n",
       "      <td>1.0</td>\n",
       "      <td>1.0</td>\n",
       "      <td>165907.57</td>\n",
       "      <td>470000.00</td>\n",
       "      <td>25524.0</td>\n",
       "      <td>3735.0</td>\n",
       "      <td>34193.00</td>\n",
       "      <td>84880.00</td>\n",
       "      <td>72.0</td>\n",
       "      <td>9.0</td>\n",
       "      <td>38466.0</td>\n",
       "      <td>19343.00</td>\n",
       "      <td>70978.00</td>\n",
       "      <td>2.0</td>\n",
       "      <td>82.0</td>\n",
       "      <td>10752.0</td>\n",
       "      <td>58373.25</td>\n",
       "      <td>75283.0</td>\n",
       "      <td>7.0</td>\n",
       "      <td>1.0</td>\n",
       "      <td>27036.0</td>\n",
       "      <td>Y</td>\n",
       "      <td>25375.27</td>\n",
       "      <td>16095.0</td>\n",
       "    </tr>\n",
       "    <tr>\n",
       "      <th>3</th>\n",
       "      <td>1590</td>\n",
       "      <td>current</td>\n",
       "      <td>F</td>\n",
       "      <td>29</td>\n",
       "      <td>867</td>\n",
       "      <td>30489.50</td>\n",
       "      <td>1236.00</td>\n",
       "      <td>12609.88</td>\n",
       "      <td>9138.14</td>\n",
       "      <td>17521.00</td>\n",
       "      <td>13650.30</td>\n",
       "      <td>53.0</td>\n",
       "      <td>1.0</td>\n",
       "      <td>50.0</td>\n",
       "      <td>1.0</td>\n",
       "      <td>1.0</td>\n",
       "      <td>10.0</td>\n",
       "      <td>155000.0</td>\n",
       "      <td>1.0</td>\n",
       "      <td>1.0</td>\n",
       "      <td>1.0</td>\n",
       "      <td>1.0</td>\n",
       "      <td>81872.65</td>\n",
       "      <td>223379.40</td>\n",
       "      <td>48500.0</td>\n",
       "      <td>-4679.0</td>\n",
       "      <td>11558.23</td>\n",
       "      <td>236326.00</td>\n",
       "      <td>43.0</td>\n",
       "      <td>30.0</td>\n",
       "      <td>52732.0</td>\n",
       "      <td>43867.91</td>\n",
       "      <td>63033.84</td>\n",
       "      <td>23.0</td>\n",
       "      <td>38.0</td>\n",
       "      <td>12607.0</td>\n",
       "      <td>69851.51</td>\n",
       "      <td>68708.0</td>\n",
       "      <td>21.0</td>\n",
       "      <td>83.0</td>\n",
       "      <td>43037.0</td>\n",
       "      <td>Y</td>\n",
       "      <td>3544.33</td>\n",
       "      <td>7707.0</td>\n",
       "    </tr>\n",
       "    <tr>\n",
       "      <th>4</th>\n",
       "      <td>16556</td>\n",
       "      <td>current</td>\n",
       "      <td>M</td>\n",
       "      <td>34</td>\n",
       "      <td>802</td>\n",
       "      <td>7441.40</td>\n",
       "      <td>6906.04</td>\n",
       "      <td>4364.00</td>\n",
       "      <td>1939.00</td>\n",
       "      <td>2121.00</td>\n",
       "      <td>6829.18</td>\n",
       "      <td>67.0</td>\n",
       "      <td>47.0</td>\n",
       "      <td>82.0</td>\n",
       "      <td>54.0</td>\n",
       "      <td>16.0</td>\n",
       "      <td>68.0</td>\n",
       "      <td>297000.0</td>\n",
       "      <td>1.0</td>\n",
       "      <td>1.0</td>\n",
       "      <td>1.0</td>\n",
       "      <td>1.0</td>\n",
       "      <td>568.80</td>\n",
       "      <td>385000.00</td>\n",
       "      <td>183999.0</td>\n",
       "      <td>6916.0</td>\n",
       "      <td>17022.81</td>\n",
       "      <td>58897.03</td>\n",
       "      <td>46.0</td>\n",
       "      <td>36.0</td>\n",
       "      <td>19613.0</td>\n",
       "      <td>153253.71</td>\n",
       "      <td>30286.00</td>\n",
       "      <td>24.0</td>\n",
       "      <td>50.0</td>\n",
       "      <td>25213.0</td>\n",
       "      <td>10071.00</td>\n",
       "      <td>80140.0</td>\n",
       "      <td>8.0</td>\n",
       "      <td>32.0</td>\n",
       "      <td>32044.0</td>\n",
       "      <td>Y</td>\n",
       "      <td>12780.44</td>\n",
       "      <td>96408.0</td>\n",
       "    </tr>\n",
       "  </tbody>\n",
       "</table>\n",
       "</div>"
      ],
      "text/plain": [
       "      ID account_type gender  age  region_code  cc_cons_apr  dc_cons_apr  \\\n",
       "0  12554      current      M   35          708     24893.00       378.00   \n",
       "1  17645      current      M   35          123     18941.62       966.00   \n",
       "2   7604      current      M   55          802      5678.87      2724.00   \n",
       "3   1590      current      F   29          867     30489.50      1236.00   \n",
       "4  16556      current      M   34          802      7441.40      6906.04   \n",
       "\n",
       "   cc_cons_may  dc_cons_may  cc_cons_jun  dc_cons_jun  cc_count_apr  \\\n",
       "0     10288.00     29664.00     16291.40     11432.00           2.0   \n",
       "1     20672.00       287.00      4217.00       885.00           1.0   \n",
       "2      1964.50      3933.11     23956.25      5168.00          43.0   \n",
       "3     12609.88      9138.14     17521.00     13650.30          53.0   \n",
       "4      4364.00      1939.00      2121.00      6829.18          67.0   \n",
       "\n",
       "   cc_count_may  cc_count_jun  dc_count_apr  dc_count_may  dc_count_jun  \\\n",
       "0          26.0          10.0          48.0          14.0          47.0   \n",
       "1           7.0          13.0           3.0          21.0          31.0   \n",
       "2          32.0         102.0           4.0           1.0          80.0   \n",
       "3           1.0          50.0           1.0           1.0          10.0   \n",
       "4          47.0          82.0          54.0          16.0          68.0   \n",
       "\n",
       "   card_lim  personal_loan_active  vehicle_loan_active  personal_loan_closed  \\\n",
       "0  430000.0                   1.0                  1.0                   1.0   \n",
       "1  127500.0                   1.0                  1.0                   1.0   \n",
       "2  199999.0                   1.0                  1.0                   1.0   \n",
       "3  155000.0                   1.0                  1.0                   1.0   \n",
       "4  297000.0                   1.0                  1.0                   1.0   \n",
       "\n",
       "   vehicle_loan_closed  investment_1  investment_2  investment_3  \\\n",
       "0                  1.0        593.20       1244.14         787.0   \n",
       "1                  1.0     213557.15     172678.56       90525.0   \n",
       "2                  1.0     165907.57     470000.00       25524.0   \n",
       "3                  1.0      81872.65     223379.40       48500.0   \n",
       "4                  1.0        568.80     385000.00      183999.0   \n",
       "\n",
       "   investment_4  debit_amount_apr  credit_amount_apr  debit_count_apr  \\\n",
       "0        6885.0          85919.48           25192.00             24.0   \n",
       "1        1500.0          12255.75           88693.37             35.0   \n",
       "2        3735.0          34193.00           84880.00             72.0   \n",
       "3       -4679.0          11558.23          236326.00             43.0   \n",
       "4        6916.0          17022.81           58897.03             46.0   \n",
       "\n",
       "   credit_count_apr  max_credit_amount_apr  debit_amount_may  \\\n",
       "0               6.0                25296.0          11527.50   \n",
       "1              36.0                80750.0          92276.57   \n",
       "2               9.0                38466.0          19343.00   \n",
       "3              30.0                52732.0          43867.91   \n",
       "4              36.0                19613.0         153253.71   \n",
       "\n",
       "   credit_amount_may  credit_count_may  debit_count_may  \\\n",
       "0          191777.13               2.0             40.0   \n",
       "1           71162.00               2.0             78.0   \n",
       "2           70978.00               2.0             82.0   \n",
       "3           63033.84              23.0             38.0   \n",
       "4           30286.00              24.0             50.0   \n",
       "\n",
       "   max_credit_amount_may  debit_amount_jun  credit_amount_jun  \\\n",
       "0                24563.0          30051.32            12761.0   \n",
       "1                23948.0          42119.05            76206.0   \n",
       "2                10752.0          58373.25            75283.0   \n",
       "3                12607.0          69851.51            68708.0   \n",
       "4                25213.0          10071.00            80140.0   \n",
       "\n",
       "   credit_count_jun  debit_count_jun  max_credit_amount_jun loan_enq  \\\n",
       "0               2.0             65.0                50836.0        Y   \n",
       "1              21.0             63.0                23226.0        Y   \n",
       "2               7.0              1.0                27036.0        Y   \n",
       "3              21.0             83.0                43037.0        Y   \n",
       "4               8.0             32.0                32044.0        Y   \n",
       "\n",
       "   emi_active  cc_cons  \n",
       "0     1674.09  20014.0  \n",
       "1    13043.34  10173.0  \n",
       "2    25375.27  16095.0  \n",
       "3     3544.33   7707.0  \n",
       "4    12780.44  96408.0  "
      ]
     },
     "execution_count": 3,
     "metadata": {},
     "output_type": "execute_result"
    }
   ],
   "source": [
    "# Display train dataset\n",
    "\n",
    "train.head()"
   ]
  },
  {
   "cell_type": "code",
   "execution_count": 4,
   "metadata": {},
   "outputs": [
    {
     "data": {
      "text/plain": [
       "(15000, 44)"
      ]
     },
     "execution_count": 4,
     "metadata": {},
     "output_type": "execute_result"
    }
   ],
   "source": [
    "# train dataset shape\n",
    "\n",
    "train.shape"
   ]
  },
  {
   "cell_type": "code",
   "execution_count": 5,
   "metadata": {},
   "outputs": [
    {
     "data": {
      "text/html": [
       "<div>\n",
       "<style scoped>\n",
       "    .dataframe tbody tr th:only-of-type {\n",
       "        vertical-align: middle;\n",
       "    }\n",
       "\n",
       "    .dataframe tbody tr th {\n",
       "        vertical-align: top;\n",
       "    }\n",
       "\n",
       "    .dataframe thead th {\n",
       "        text-align: right;\n",
       "    }\n",
       "</style>\n",
       "<table border=\"1\" class=\"dataframe\">\n",
       "  <thead>\n",
       "    <tr style=\"text-align: right;\">\n",
       "      <th></th>\n",
       "      <th>ID</th>\n",
       "      <th>account_type</th>\n",
       "      <th>gender</th>\n",
       "      <th>age</th>\n",
       "      <th>region_code</th>\n",
       "      <th>cc_cons_apr</th>\n",
       "      <th>dc_cons_apr</th>\n",
       "      <th>cc_cons_may</th>\n",
       "      <th>dc_cons_may</th>\n",
       "      <th>cc_cons_jun</th>\n",
       "      <th>dc_cons_jun</th>\n",
       "      <th>cc_count_apr</th>\n",
       "      <th>cc_count_may</th>\n",
       "      <th>cc_count_jun</th>\n",
       "      <th>dc_count_apr</th>\n",
       "      <th>dc_count_may</th>\n",
       "      <th>dc_count_jun</th>\n",
       "      <th>card_lim</th>\n",
       "      <th>personal_loan_active</th>\n",
       "      <th>vehicle_loan_active</th>\n",
       "      <th>personal_loan_closed</th>\n",
       "      <th>vehicle_loan_closed</th>\n",
       "      <th>investment_1</th>\n",
       "      <th>investment_2</th>\n",
       "      <th>investment_3</th>\n",
       "      <th>investment_4</th>\n",
       "      <th>debit_amount_apr</th>\n",
       "      <th>credit_amount_apr</th>\n",
       "      <th>debit_count_apr</th>\n",
       "      <th>credit_count_apr</th>\n",
       "      <th>max_credit_amount_apr</th>\n",
       "      <th>debit_amount_may</th>\n",
       "      <th>credit_amount_may</th>\n",
       "      <th>credit_count_may</th>\n",
       "      <th>debit_count_may</th>\n",
       "      <th>max_credit_amount_may</th>\n",
       "      <th>debit_amount_jun</th>\n",
       "      <th>credit_amount_jun</th>\n",
       "      <th>credit_count_jun</th>\n",
       "      <th>debit_count_jun</th>\n",
       "      <th>max_credit_amount_jun</th>\n",
       "      <th>loan_enq</th>\n",
       "      <th>emi_active</th>\n",
       "    </tr>\n",
       "  </thead>\n",
       "  <tbody>\n",
       "    <tr>\n",
       "      <th>0</th>\n",
       "      <td>17591</td>\n",
       "      <td>current</td>\n",
       "      <td>M</td>\n",
       "      <td>37</td>\n",
       "      <td>575</td>\n",
       "      <td>2795.45</td>\n",
       "      <td>1290.0</td>\n",
       "      <td>6141.05</td>\n",
       "      <td>676.50</td>\n",
       "      <td>9146.10</td>\n",
       "      <td>15479.00</td>\n",
       "      <td>4.0</td>\n",
       "      <td>10.0</td>\n",
       "      <td>4.0</td>\n",
       "      <td>47.0</td>\n",
       "      <td>56.0</td>\n",
       "      <td>6.0</td>\n",
       "      <td>125000.0</td>\n",
       "      <td>1.0</td>\n",
       "      <td>1.0</td>\n",
       "      <td>1.0</td>\n",
       "      <td>1.0</td>\n",
       "      <td>13.80</td>\n",
       "      <td>376600.50</td>\n",
       "      <td>1633.0</td>\n",
       "      <td>-5715.49023</td>\n",
       "      <td>27646.84</td>\n",
       "      <td>44341.00</td>\n",
       "      <td>16.0</td>\n",
       "      <td>36.0</td>\n",
       "      <td>24485.0</td>\n",
       "      <td>23512.67</td>\n",
       "      <td>41755.0</td>\n",
       "      <td>24.0</td>\n",
       "      <td>20.0</td>\n",
       "      <td>9750.0</td>\n",
       "      <td>30527.88</td>\n",
       "      <td>31271.00</td>\n",
       "      <td>3.0</td>\n",
       "      <td>12.0</td>\n",
       "      <td>25945.92</td>\n",
       "      <td>Y</td>\n",
       "      <td>1170.49</td>\n",
       "    </tr>\n",
       "    <tr>\n",
       "      <th>1</th>\n",
       "      <td>13541</td>\n",
       "      <td>current</td>\n",
       "      <td>M</td>\n",
       "      <td>33</td>\n",
       "      <td>394</td>\n",
       "      <td>29405.13</td>\n",
       "      <td>1640.0</td>\n",
       "      <td>1670.00</td>\n",
       "      <td>2463.92</td>\n",
       "      <td>10947.50</td>\n",
       "      <td>956.00</td>\n",
       "      <td>3.0</td>\n",
       "      <td>10.0</td>\n",
       "      <td>4.0</td>\n",
       "      <td>50.0</td>\n",
       "      <td>38.0</td>\n",
       "      <td>31.0</td>\n",
       "      <td>59000.0</td>\n",
       "      <td>1.0</td>\n",
       "      <td>1.0</td>\n",
       "      <td>1.0</td>\n",
       "      <td>1.0</td>\n",
       "      <td>101891.25</td>\n",
       "      <td>470000.00</td>\n",
       "      <td>891.0</td>\n",
       "      <td>35346.00000</td>\n",
       "      <td>32247.25</td>\n",
       "      <td>21946.00</td>\n",
       "      <td>42.0</td>\n",
       "      <td>5.0</td>\n",
       "      <td>3375.0</td>\n",
       "      <td>15049.44</td>\n",
       "      <td>130299.0</td>\n",
       "      <td>43.0</td>\n",
       "      <td>40.0</td>\n",
       "      <td>16967.0</td>\n",
       "      <td>14342.83</td>\n",
       "      <td>16582.00</td>\n",
       "      <td>6.0</td>\n",
       "      <td>39.0</td>\n",
       "      <td>12214.00</td>\n",
       "      <td>Y</td>\n",
       "      <td>16447.45</td>\n",
       "    </tr>\n",
       "    <tr>\n",
       "      <th>2</th>\n",
       "      <td>13431</td>\n",
       "      <td>current</td>\n",
       "      <td>M</td>\n",
       "      <td>53</td>\n",
       "      <td>324</td>\n",
       "      <td>5985.20</td>\n",
       "      <td>6189.0</td>\n",
       "      <td>2696.09</td>\n",
       "      <td>766.00</td>\n",
       "      <td>716.00</td>\n",
       "      <td>4133.22</td>\n",
       "      <td>7.0</td>\n",
       "      <td>30.0</td>\n",
       "      <td>5.0</td>\n",
       "      <td>24.0</td>\n",
       "      <td>27.0</td>\n",
       "      <td>2.0</td>\n",
       "      <td>49999.0</td>\n",
       "      <td>1.0</td>\n",
       "      <td>1.0</td>\n",
       "      <td>1.0</td>\n",
       "      <td>1.0</td>\n",
       "      <td>53374.97</td>\n",
       "      <td>674291.83</td>\n",
       "      <td>54101.0</td>\n",
       "      <td>2557.00000</td>\n",
       "      <td>63169.00</td>\n",
       "      <td>36616.50</td>\n",
       "      <td>41.0</td>\n",
       "      <td>6.0</td>\n",
       "      <td>14950.0</td>\n",
       "      <td>133659.00</td>\n",
       "      <td>40422.0</td>\n",
       "      <td>42.0</td>\n",
       "      <td>35.0</td>\n",
       "      <td>36398.0</td>\n",
       "      <td>32503.16</td>\n",
       "      <td>33539.54</td>\n",
       "      <td>5.0</td>\n",
       "      <td>9.0</td>\n",
       "      <td>13215.00</td>\n",
       "      <td>Y</td>\n",
       "      <td>2622.28</td>\n",
       "    </tr>\n",
       "    <tr>\n",
       "      <th>3</th>\n",
       "      <td>8687</td>\n",
       "      <td>current</td>\n",
       "      <td>M</td>\n",
       "      <td>33</td>\n",
       "      <td>370</td>\n",
       "      <td>2105.93</td>\n",
       "      <td>18225.0</td>\n",
       "      <td>34763.56</td>\n",
       "      <td>167.00</td>\n",
       "      <td>4260.27</td>\n",
       "      <td>20185.00</td>\n",
       "      <td>1.0</td>\n",
       "      <td>99.0</td>\n",
       "      <td>71.0</td>\n",
       "      <td>5.0</td>\n",
       "      <td>1.0</td>\n",
       "      <td>11.0</td>\n",
       "      <td>520000.0</td>\n",
       "      <td>1.0</td>\n",
       "      <td>1.0</td>\n",
       "      <td>1.0</td>\n",
       "      <td>1.0</td>\n",
       "      <td>9118.35</td>\n",
       "      <td>470000.00</td>\n",
       "      <td>5905.0</td>\n",
       "      <td>5464.00000</td>\n",
       "      <td>39442.80</td>\n",
       "      <td>43173.38</td>\n",
       "      <td>46.0</td>\n",
       "      <td>1.0</td>\n",
       "      <td>235844.0</td>\n",
       "      <td>99686.03</td>\n",
       "      <td>48148.0</td>\n",
       "      <td>3.0</td>\n",
       "      <td>5.0</td>\n",
       "      <td>97825.0</td>\n",
       "      <td>93572.42</td>\n",
       "      <td>109429.75</td>\n",
       "      <td>21.0</td>\n",
       "      <td>0.0</td>\n",
       "      <td>72317.00</td>\n",
       "      <td>Y</td>\n",
       "      <td>340.79</td>\n",
       "    </tr>\n",
       "    <tr>\n",
       "      <th>4</th>\n",
       "      <td>14727</td>\n",
       "      <td>current</td>\n",
       "      <td>M</td>\n",
       "      <td>62</td>\n",
       "      <td>505</td>\n",
       "      <td>3269.00</td>\n",
       "      <td>3532.0</td>\n",
       "      <td>3158.40</td>\n",
       "      <td>2699.77</td>\n",
       "      <td>3373.48</td>\n",
       "      <td>5120.00</td>\n",
       "      <td>2.0</td>\n",
       "      <td>10.0</td>\n",
       "      <td>47.0</td>\n",
       "      <td>5.0</td>\n",
       "      <td>25.0</td>\n",
       "      <td>1.0</td>\n",
       "      <td>152000.0</td>\n",
       "      <td>1.0</td>\n",
       "      <td>1.0</td>\n",
       "      <td>1.0</td>\n",
       "      <td>1.0</td>\n",
       "      <td>12850544.36</td>\n",
       "      <td>101.24</td>\n",
       "      <td>130000.0</td>\n",
       "      <td>1332.00000</td>\n",
       "      <td>8937.00</td>\n",
       "      <td>15232.00</td>\n",
       "      <td>11.0</td>\n",
       "      <td>1.0</td>\n",
       "      <td>14495.0</td>\n",
       "      <td>190374.25</td>\n",
       "      <td>25926.0</td>\n",
       "      <td>70.0</td>\n",
       "      <td>75.0</td>\n",
       "      <td>27936.0</td>\n",
       "      <td>19011.50</td>\n",
       "      <td>41401.00</td>\n",
       "      <td>6.0</td>\n",
       "      <td>35.0</td>\n",
       "      <td>42344.00</td>\n",
       "      <td>Y</td>\n",
       "      <td>2812.20</td>\n",
       "    </tr>\n",
       "  </tbody>\n",
       "</table>\n",
       "</div>"
      ],
      "text/plain": [
       "      ID account_type gender  age  region_code  cc_cons_apr  dc_cons_apr  \\\n",
       "0  17591      current      M   37          575      2795.45       1290.0   \n",
       "1  13541      current      M   33          394     29405.13       1640.0   \n",
       "2  13431      current      M   53          324      5985.20       6189.0   \n",
       "3   8687      current      M   33          370      2105.93      18225.0   \n",
       "4  14727      current      M   62          505      3269.00       3532.0   \n",
       "\n",
       "   cc_cons_may  dc_cons_may  cc_cons_jun  dc_cons_jun  cc_count_apr  \\\n",
       "0      6141.05       676.50      9146.10     15479.00           4.0   \n",
       "1      1670.00      2463.92     10947.50       956.00           3.0   \n",
       "2      2696.09       766.00       716.00      4133.22           7.0   \n",
       "3     34763.56       167.00      4260.27     20185.00           1.0   \n",
       "4      3158.40      2699.77      3373.48      5120.00           2.0   \n",
       "\n",
       "   cc_count_may  cc_count_jun  dc_count_apr  dc_count_may  dc_count_jun  \\\n",
       "0          10.0           4.0          47.0          56.0           6.0   \n",
       "1          10.0           4.0          50.0          38.0          31.0   \n",
       "2          30.0           5.0          24.0          27.0           2.0   \n",
       "3          99.0          71.0           5.0           1.0          11.0   \n",
       "4          10.0          47.0           5.0          25.0           1.0   \n",
       "\n",
       "   card_lim  personal_loan_active  vehicle_loan_active  personal_loan_closed  \\\n",
       "0  125000.0                   1.0                  1.0                   1.0   \n",
       "1   59000.0                   1.0                  1.0                   1.0   \n",
       "2   49999.0                   1.0                  1.0                   1.0   \n",
       "3  520000.0                   1.0                  1.0                   1.0   \n",
       "4  152000.0                   1.0                  1.0                   1.0   \n",
       "\n",
       "   vehicle_loan_closed  investment_1  investment_2  investment_3  \\\n",
       "0                  1.0         13.80     376600.50        1633.0   \n",
       "1                  1.0     101891.25     470000.00         891.0   \n",
       "2                  1.0      53374.97     674291.83       54101.0   \n",
       "3                  1.0       9118.35     470000.00        5905.0   \n",
       "4                  1.0   12850544.36        101.24      130000.0   \n",
       "\n",
       "   investment_4  debit_amount_apr  credit_amount_apr  debit_count_apr  \\\n",
       "0   -5715.49023          27646.84           44341.00             16.0   \n",
       "1   35346.00000          32247.25           21946.00             42.0   \n",
       "2    2557.00000          63169.00           36616.50             41.0   \n",
       "3    5464.00000          39442.80           43173.38             46.0   \n",
       "4    1332.00000           8937.00           15232.00             11.0   \n",
       "\n",
       "   credit_count_apr  max_credit_amount_apr  debit_amount_may  \\\n",
       "0              36.0                24485.0          23512.67   \n",
       "1               5.0                 3375.0          15049.44   \n",
       "2               6.0                14950.0         133659.00   \n",
       "3               1.0               235844.0          99686.03   \n",
       "4               1.0                14495.0         190374.25   \n",
       "\n",
       "   credit_amount_may  credit_count_may  debit_count_may  \\\n",
       "0            41755.0              24.0             20.0   \n",
       "1           130299.0              43.0             40.0   \n",
       "2            40422.0              42.0             35.0   \n",
       "3            48148.0               3.0              5.0   \n",
       "4            25926.0              70.0             75.0   \n",
       "\n",
       "   max_credit_amount_may  debit_amount_jun  credit_amount_jun  \\\n",
       "0                 9750.0          30527.88           31271.00   \n",
       "1                16967.0          14342.83           16582.00   \n",
       "2                36398.0          32503.16           33539.54   \n",
       "3                97825.0          93572.42          109429.75   \n",
       "4                27936.0          19011.50           41401.00   \n",
       "\n",
       "   credit_count_jun  debit_count_jun  max_credit_amount_jun loan_enq  \\\n",
       "0               3.0             12.0               25945.92        Y   \n",
       "1               6.0             39.0               12214.00        Y   \n",
       "2               5.0              9.0               13215.00        Y   \n",
       "3              21.0              0.0               72317.00        Y   \n",
       "4               6.0             35.0               42344.00        Y   \n",
       "\n",
       "   emi_active  \n",
       "0     1170.49  \n",
       "1    16447.45  \n",
       "2     2622.28  \n",
       "3      340.79  \n",
       "4     2812.20  "
      ]
     },
     "execution_count": 5,
     "metadata": {},
     "output_type": "execute_result"
    }
   ],
   "source": [
    "# display test dataset\n",
    "\n",
    "test.head()"
   ]
  },
  {
   "cell_type": "code",
   "execution_count": 6,
   "metadata": {},
   "outputs": [
    {
     "data": {
      "text/plain": [
       "(5000, 43)"
      ]
     },
     "execution_count": 6,
     "metadata": {},
     "output_type": "execute_result"
    }
   ],
   "source": [
    "# test dataset shape\n",
    "\n",
    "test.shape"
   ]
  },
  {
   "cell_type": "code",
   "execution_count": 7,
   "metadata": {},
   "outputs": [],
   "source": [
    "# Copy test dataset ID\n",
    "\n",
    "test_id = test['ID'].values"
   ]
  },
  {
   "cell_type": "code",
   "execution_count": 8,
   "metadata": {},
   "outputs": [],
   "source": [
    "# droping train dataset ID and test dataset ID which is unnecessory in model training\n",
    "\n",
    "train.drop(['ID'], 1, inplace = True)\n",
    "test.drop(['ID'], 1, inplace = True)"
   ]
  },
  {
   "cell_type": "markdown",
   "metadata": {},
   "source": [
    "## EDA on train dataset\n"
   ]
  },
  {
   "cell_type": "code",
   "execution_count": 9,
   "metadata": {
    "scrolled": true
   },
   "outputs": [
    {
     "data": {
      "text/plain": [
       "account_type              object\n",
       "gender                    object\n",
       "age                        int64\n",
       "region_code                int64\n",
       "cc_cons_apr              float64\n",
       "dc_cons_apr              float64\n",
       "cc_cons_may              float64\n",
       "dc_cons_may              float64\n",
       "cc_cons_jun              float64\n",
       "dc_cons_jun              float64\n",
       "cc_count_apr             float64\n",
       "cc_count_may             float64\n",
       "cc_count_jun             float64\n",
       "dc_count_apr             float64\n",
       "dc_count_may             float64\n",
       "dc_count_jun             float64\n",
       "card_lim                 float64\n",
       "personal_loan_active     float64\n",
       "vehicle_loan_active      float64\n",
       "personal_loan_closed     float64\n",
       "vehicle_loan_closed      float64\n",
       "investment_1             float64\n",
       "investment_2             float64\n",
       "investment_3             float64\n",
       "investment_4             float64\n",
       "debit_amount_apr         float64\n",
       "credit_amount_apr        float64\n",
       "debit_count_apr          float64\n",
       "credit_count_apr         float64\n",
       "max_credit_amount_apr    float64\n",
       "debit_amount_may         float64\n",
       "credit_amount_may        float64\n",
       "credit_count_may         float64\n",
       "debit_count_may          float64\n",
       "max_credit_amount_may    float64\n",
       "debit_amount_jun         float64\n",
       "credit_amount_jun        float64\n",
       "credit_count_jun         float64\n",
       "debit_count_jun          float64\n",
       "max_credit_amount_jun    float64\n",
       "loan_enq                  object\n",
       "emi_active               float64\n",
       "cc_cons                  float64\n",
       "dtype: object"
      ]
     },
     "execution_count": 9,
     "metadata": {},
     "output_type": "execute_result"
    }
   ],
   "source": [
    "# check data types of train dataset columns\n",
    "\n",
    "train.dtypes"
   ]
  },
  {
   "cell_type": "code",
   "execution_count": 10,
   "metadata": {
    "scrolled": true
   },
   "outputs": [
    {
     "data": {
      "text/html": [
       "<div>\n",
       "<style scoped>\n",
       "    .dataframe tbody tr th:only-of-type {\n",
       "        vertical-align: middle;\n",
       "    }\n",
       "\n",
       "    .dataframe tbody tr th {\n",
       "        vertical-align: top;\n",
       "    }\n",
       "\n",
       "    .dataframe thead th {\n",
       "        text-align: right;\n",
       "    }\n",
       "</style>\n",
       "<table border=\"1\" class=\"dataframe\">\n",
       "  <thead>\n",
       "    <tr style=\"text-align: right;\">\n",
       "      <th></th>\n",
       "      <th>age</th>\n",
       "      <th>region_code</th>\n",
       "      <th>cc_cons_apr</th>\n",
       "      <th>dc_cons_apr</th>\n",
       "      <th>cc_cons_may</th>\n",
       "      <th>dc_cons_may</th>\n",
       "      <th>cc_cons_jun</th>\n",
       "      <th>dc_cons_jun</th>\n",
       "      <th>cc_count_apr</th>\n",
       "      <th>cc_count_may</th>\n",
       "      <th>cc_count_jun</th>\n",
       "      <th>dc_count_apr</th>\n",
       "      <th>dc_count_may</th>\n",
       "      <th>dc_count_jun</th>\n",
       "      <th>card_lim</th>\n",
       "      <th>personal_loan_active</th>\n",
       "      <th>vehicle_loan_active</th>\n",
       "      <th>personal_loan_closed</th>\n",
       "      <th>vehicle_loan_closed</th>\n",
       "      <th>investment_1</th>\n",
       "      <th>investment_2</th>\n",
       "      <th>investment_3</th>\n",
       "      <th>investment_4</th>\n",
       "      <th>debit_amount_apr</th>\n",
       "      <th>credit_amount_apr</th>\n",
       "      <th>debit_count_apr</th>\n",
       "      <th>credit_count_apr</th>\n",
       "      <th>max_credit_amount_apr</th>\n",
       "      <th>debit_amount_may</th>\n",
       "      <th>credit_amount_may</th>\n",
       "      <th>credit_count_may</th>\n",
       "      <th>debit_count_may</th>\n",
       "      <th>max_credit_amount_may</th>\n",
       "      <th>debit_amount_jun</th>\n",
       "      <th>credit_amount_jun</th>\n",
       "      <th>credit_count_jun</th>\n",
       "      <th>debit_count_jun</th>\n",
       "      <th>max_credit_amount_jun</th>\n",
       "      <th>emi_active</th>\n",
       "      <th>cc_cons</th>\n",
       "    </tr>\n",
       "  </thead>\n",
       "  <tbody>\n",
       "    <tr>\n",
       "      <th>count</th>\n",
       "      <td>15000.000000</td>\n",
       "      <td>15000.000000</td>\n",
       "      <td>15000.000000</td>\n",
       "      <td>15000.000000</td>\n",
       "      <td>1.500000e+04</td>\n",
       "      <td>15000.000000</td>\n",
       "      <td>15000.000000</td>\n",
       "      <td>15000.000000</td>\n",
       "      <td>15000.000000</td>\n",
       "      <td>15000.000000</td>\n",
       "      <td>15000.000000</td>\n",
       "      <td>15000.000000</td>\n",
       "      <td>15000.000000</td>\n",
       "      <td>15000.000000</td>\n",
       "      <td>15000.000000</td>\n",
       "      <td>15000.0</td>\n",
       "      <td>15000.0</td>\n",
       "      <td>15000.0</td>\n",
       "      <td>15000.0</td>\n",
       "      <td>1.500000e+04</td>\n",
       "      <td>1.500000e+04</td>\n",
       "      <td>15000.000000</td>\n",
       "      <td>15000.000000</td>\n",
       "      <td>1.500000e+04</td>\n",
       "      <td>1.500000e+04</td>\n",
       "      <td>15000.000000</td>\n",
       "      <td>15000.000000</td>\n",
       "      <td>1.500000e+04</td>\n",
       "      <td>1.500000e+04</td>\n",
       "      <td>1.500000e+04</td>\n",
       "      <td>15000.000000</td>\n",
       "      <td>15000.000000</td>\n",
       "      <td>1.500000e+04</td>\n",
       "      <td>1.500000e+04</td>\n",
       "      <td>1.500000e+04</td>\n",
       "      <td>15000.000000</td>\n",
       "      <td>15000.000000</td>\n",
       "      <td>1.500000e+04</td>\n",
       "      <td>1.500000e+04</td>\n",
       "      <td>15000.000000</td>\n",
       "    </tr>\n",
       "    <tr>\n",
       "      <th>mean</th>\n",
       "      <td>47.790600</td>\n",
       "      <td>598.415467</td>\n",
       "      <td>17957.391719</td>\n",
       "      <td>8171.098287</td>\n",
       "      <td>1.633705e+04</td>\n",
       "      <td>7703.605203</td>\n",
       "      <td>12129.010832</td>\n",
       "      <td>7097.395321</td>\n",
       "      <td>41.488333</td>\n",
       "      <td>33.490200</td>\n",
       "      <td>41.507000</td>\n",
       "      <td>17.171000</td>\n",
       "      <td>13.979733</td>\n",
       "      <td>30.287267</td>\n",
       "      <td>277005.147400</td>\n",
       "      <td>1.0</td>\n",
       "      <td>1.0</td>\n",
       "      <td>1.0</td>\n",
       "      <td>1.0</td>\n",
       "      <td>6.194140e+05</td>\n",
       "      <td>2.333642e+05</td>\n",
       "      <td>44440.348527</td>\n",
       "      <td>3523.049025</td>\n",
       "      <td>6.823421e+04</td>\n",
       "      <td>8.079761e+04</td>\n",
       "      <td>36.400267</td>\n",
       "      <td>11.291400</td>\n",
       "      <td>5.438954e+04</td>\n",
       "      <td>6.554492e+04</td>\n",
       "      <td>8.356935e+04</td>\n",
       "      <td>11.923133</td>\n",
       "      <td>40.996867</td>\n",
       "      <td>5.718791e+04</td>\n",
       "      <td>7.615987e+04</td>\n",
       "      <td>7.850316e+04</td>\n",
       "      <td>19.946400</td>\n",
       "      <td>44.647867</td>\n",
       "      <td>5.258654e+04</td>\n",
       "      <td>1.576040e+04</td>\n",
       "      <td>55157.729867</td>\n",
       "    </tr>\n",
       "    <tr>\n",
       "      <th>std</th>\n",
       "      <td>30.632766</td>\n",
       "      <td>220.062345</td>\n",
       "      <td>25187.939958</td>\n",
       "      <td>14773.029481</td>\n",
       "      <td>2.706085e+04</td>\n",
       "      <td>18987.296785</td>\n",
       "      <td>18488.781136</td>\n",
       "      <td>13251.695907</td>\n",
       "      <td>97.432251</td>\n",
       "      <td>49.540999</td>\n",
       "      <td>47.342918</td>\n",
       "      <td>19.359678</td>\n",
       "      <td>17.087203</td>\n",
       "      <td>29.252490</td>\n",
       "      <td>179429.540139</td>\n",
       "      <td>0.0</td>\n",
       "      <td>0.0</td>\n",
       "      <td>0.0</td>\n",
       "      <td>0.0</td>\n",
       "      <td>3.087815e+06</td>\n",
       "      <td>4.073237e+05</td>\n",
       "      <td>88113.186017</td>\n",
       "      <td>7373.355434</td>\n",
       "      <td>1.126786e+05</td>\n",
       "      <td>1.989060e+05</td>\n",
       "      <td>30.700996</td>\n",
       "      <td>12.670785</td>\n",
       "      <td>1.950943e+05</td>\n",
       "      <td>1.016829e+05</td>\n",
       "      <td>1.776300e+05</td>\n",
       "      <td>16.843563</td>\n",
       "      <td>40.537354</td>\n",
       "      <td>2.000194e+05</td>\n",
       "      <td>1.545112e+05</td>\n",
       "      <td>1.482005e+05</td>\n",
       "      <td>27.200165</td>\n",
       "      <td>35.089082</td>\n",
       "      <td>1.282601e+05</td>\n",
       "      <td>1.179153e+05</td>\n",
       "      <td>97670.972252</td>\n",
       "    </tr>\n",
       "    <tr>\n",
       "      <th>min</th>\n",
       "      <td>25.000000</td>\n",
       "      <td>123.000000</td>\n",
       "      <td>253.000000</td>\n",
       "      <td>19.350000</td>\n",
       "      <td>1.570000e+02</td>\n",
       "      <td>22.000000</td>\n",
       "      <td>65.000000</td>\n",
       "      <td>62.000000</td>\n",
       "      <td>1.000000</td>\n",
       "      <td>1.000000</td>\n",
       "      <td>1.000000</td>\n",
       "      <td>1.000000</td>\n",
       "      <td>1.000000</td>\n",
       "      <td>1.000000</td>\n",
       "      <td>0.000000</td>\n",
       "      <td>1.0</td>\n",
       "      <td>1.0</td>\n",
       "      <td>1.0</td>\n",
       "      <td>1.0</td>\n",
       "      <td>3.000000e-01</td>\n",
       "      <td>3.000000e+00</td>\n",
       "      <td>462.000000</td>\n",
       "      <td>-12179.000000</td>\n",
       "      <td>4.010000e+00</td>\n",
       "      <td>6.138000e+01</td>\n",
       "      <td>0.000000</td>\n",
       "      <td>0.000000</td>\n",
       "      <td>1.000000e+00</td>\n",
       "      <td>2.820000e+01</td>\n",
       "      <td>1.061000e+01</td>\n",
       "      <td>0.000000</td>\n",
       "      <td>0.000000</td>\n",
       "      <td>2.500000e-01</td>\n",
       "      <td>5.230000e+00</td>\n",
       "      <td>1.188000e+01</td>\n",
       "      <td>1.000000</td>\n",
       "      <td>0.000000</td>\n",
       "      <td>6.000000e-02</td>\n",
       "      <td>0.000000e+00</td>\n",
       "      <td>0.000000</td>\n",
       "    </tr>\n",
       "    <tr>\n",
       "      <th>25%</th>\n",
       "      <td>33.000000</td>\n",
       "      <td>424.000000</td>\n",
       "      <td>4411.027500</td>\n",
       "      <td>1634.000000</td>\n",
       "      <td>3.638000e+03</td>\n",
       "      <td>1643.500000</td>\n",
       "      <td>3004.500000</td>\n",
       "      <td>1358.750000</td>\n",
       "      <td>5.000000</td>\n",
       "      <td>8.000000</td>\n",
       "      <td>10.000000</td>\n",
       "      <td>2.000000</td>\n",
       "      <td>2.000000</td>\n",
       "      <td>4.000000</td>\n",
       "      <td>124000.000000</td>\n",
       "      <td>1.0</td>\n",
       "      <td>1.0</td>\n",
       "      <td>1.0</td>\n",
       "      <td>1.0</td>\n",
       "      <td>6.100000e+03</td>\n",
       "      <td>3.817300e+04</td>\n",
       "      <td>2214.000000</td>\n",
       "      <td>0.000000</td>\n",
       "      <td>2.323043e+04</td>\n",
       "      <td>2.684600e+04</td>\n",
       "      <td>11.000000</td>\n",
       "      <td>2.000000</td>\n",
       "      <td>2.068300e+04</td>\n",
       "      <td>2.100333e+04</td>\n",
       "      <td>2.541027e+04</td>\n",
       "      <td>2.000000</td>\n",
       "      <td>11.000000</td>\n",
       "      <td>2.008300e+04</td>\n",
       "      <td>2.573259e+04</td>\n",
       "      <td>2.492008e+04</td>\n",
       "      <td>4.000000</td>\n",
       "      <td>12.000000</td>\n",
       "      <td>1.903800e+04</td>\n",
       "      <td>1.548510e+03</td>\n",
       "      <td>6768.000000</td>\n",
       "    </tr>\n",
       "    <tr>\n",
       "      <th>50%</th>\n",
       "      <td>40.000000</td>\n",
       "      <td>623.000000</td>\n",
       "      <td>10288.100000</td>\n",
       "      <td>3996.900000</td>\n",
       "      <td>8.695030e+03</td>\n",
       "      <td>3820.500000</td>\n",
       "      <td>6655.250000</td>\n",
       "      <td>3327.000000</td>\n",
       "      <td>10.000000</td>\n",
       "      <td>23.000000</td>\n",
       "      <td>35.000000</td>\n",
       "      <td>7.000000</td>\n",
       "      <td>5.000000</td>\n",
       "      <td>17.000000</td>\n",
       "      <td>272000.000000</td>\n",
       "      <td>1.0</td>\n",
       "      <td>1.0</td>\n",
       "      <td>1.0</td>\n",
       "      <td>1.0</td>\n",
       "      <td>4.503600e+04</td>\n",
       "      <td>1.110000e+05</td>\n",
       "      <td>13873.000000</td>\n",
       "      <td>2351.000000</td>\n",
       "      <td>4.187560e+04</td>\n",
       "      <td>4.709700e+04</td>\n",
       "      <td>32.000000</td>\n",
       "      <td>5.000000</td>\n",
       "      <td>3.191500e+04</td>\n",
       "      <td>3.823568e+04</td>\n",
       "      <td>4.814000e+04</td>\n",
       "      <td>4.000000</td>\n",
       "      <td>23.000000</td>\n",
       "      <td>3.140300e+04</td>\n",
       "      <td>4.580365e+04</td>\n",
       "      <td>4.590000e+04</td>\n",
       "      <td>7.000000</td>\n",
       "      <td>38.000000</td>\n",
       "      <td>3.042550e+04</td>\n",
       "      <td>3.954430e+03</td>\n",
       "      <td>13364.000000</td>\n",
       "    </tr>\n",
       "    <tr>\n",
       "      <th>75%</th>\n",
       "      <td>53.000000</td>\n",
       "      <td>799.000000</td>\n",
       "      <td>21405.000000</td>\n",
       "      <td>9339.020000</td>\n",
       "      <td>1.895130e+04</td>\n",
       "      <td>8212.000000</td>\n",
       "      <td>14247.000000</td>\n",
       "      <td>7597.000000</td>\n",
       "      <td>44.000000</td>\n",
       "      <td>43.000000</td>\n",
       "      <td>61.000000</td>\n",
       "      <td>25.000000</td>\n",
       "      <td>21.000000</td>\n",
       "      <td>54.000000</td>\n",
       "      <td>400000.000000</td>\n",
       "      <td>1.0</td>\n",
       "      <td>1.0</td>\n",
       "      <td>1.0</td>\n",
       "      <td>1.0</td>\n",
       "      <td>1.617040e+05</td>\n",
       "      <td>2.450000e+05</td>\n",
       "      <td>48950.000000</td>\n",
       "      <td>6885.000000</td>\n",
       "      <td>7.536829e+04</td>\n",
       "      <td>8.593500e+04</td>\n",
       "      <td>52.000000</td>\n",
       "      <td>19.000000</td>\n",
       "      <td>5.255900e+04</td>\n",
       "      <td>7.440055e+04</td>\n",
       "      <td>9.456936e+04</td>\n",
       "      <td>11.000000</td>\n",
       "      <td>69.000000</td>\n",
       "      <td>5.598600e+04</td>\n",
       "      <td>8.461910e+04</td>\n",
       "      <td>8.559233e+04</td>\n",
       "      <td>21.000000</td>\n",
       "      <td>73.000000</td>\n",
       "      <td>5.321100e+04</td>\n",
       "      <td>9.376390e+03</td>\n",
       "      <td>20105.750000</td>\n",
       "    </tr>\n",
       "    <tr>\n",
       "      <th>max</th>\n",
       "      <td>223.000000</td>\n",
       "      <td>974.000000</td>\n",
       "      <td>441031.330000</td>\n",
       "      <td>229255.000000</td>\n",
       "      <td>1.117246e+06</td>\n",
       "      <td>911223.490000</td>\n",
       "      <td>382914.100000</td>\n",
       "      <td>233384.000000</td>\n",
       "      <td>531.000000</td>\n",
       "      <td>601.000000</td>\n",
       "      <td>653.000000</td>\n",
       "      <td>82.000000</td>\n",
       "      <td>71.000000</td>\n",
       "      <td>98.000000</td>\n",
       "      <td>1000000.000000</td>\n",
       "      <td>1.0</td>\n",
       "      <td>1.0</td>\n",
       "      <td>1.0</td>\n",
       "      <td>1.0</td>\n",
       "      <td>6.597743e+07</td>\n",
       "      <td>5.000000e+06</td>\n",
       "      <td>610000.000000</td>\n",
       "      <td>35346.000000</td>\n",
       "      <td>5.156864e+06</td>\n",
       "      <td>1.059212e+07</td>\n",
       "      <td>147.000000</td>\n",
       "      <td>78.000000</td>\n",
       "      <td>1.202915e+07</td>\n",
       "      <td>4.252567e+06</td>\n",
       "      <td>1.060175e+07</td>\n",
       "      <td>71.000000</td>\n",
       "      <td>171.000000</td>\n",
       "      <td>1.000000e+07</td>\n",
       "      <td>6.539810e+06</td>\n",
       "      <td>6.611953e+06</td>\n",
       "      <td>117.000000</td>\n",
       "      <td>133.000000</td>\n",
       "      <td>5.200000e+06</td>\n",
       "      <td>7.447125e+06</td>\n",
       "      <td>408382.000000</td>\n",
       "    </tr>\n",
       "  </tbody>\n",
       "</table>\n",
       "</div>"
      ],
      "text/plain": [
       "                age   region_code    cc_cons_apr    dc_cons_apr   cc_cons_may  \\\n",
       "count  15000.000000  15000.000000   15000.000000   15000.000000  1.500000e+04   \n",
       "mean      47.790600    598.415467   17957.391719    8171.098287  1.633705e+04   \n",
       "std       30.632766    220.062345   25187.939958   14773.029481  2.706085e+04   \n",
       "min       25.000000    123.000000     253.000000      19.350000  1.570000e+02   \n",
       "25%       33.000000    424.000000    4411.027500    1634.000000  3.638000e+03   \n",
       "50%       40.000000    623.000000   10288.100000    3996.900000  8.695030e+03   \n",
       "75%       53.000000    799.000000   21405.000000    9339.020000  1.895130e+04   \n",
       "max      223.000000    974.000000  441031.330000  229255.000000  1.117246e+06   \n",
       "\n",
       "         dc_cons_may    cc_cons_jun    dc_cons_jun  cc_count_apr  \\\n",
       "count   15000.000000   15000.000000   15000.000000  15000.000000   \n",
       "mean     7703.605203   12129.010832    7097.395321     41.488333   \n",
       "std     18987.296785   18488.781136   13251.695907     97.432251   \n",
       "min        22.000000      65.000000      62.000000      1.000000   \n",
       "25%      1643.500000    3004.500000    1358.750000      5.000000   \n",
       "50%      3820.500000    6655.250000    3327.000000     10.000000   \n",
       "75%      8212.000000   14247.000000    7597.000000     44.000000   \n",
       "max    911223.490000  382914.100000  233384.000000    531.000000   \n",
       "\n",
       "       cc_count_may  cc_count_jun  dc_count_apr  dc_count_may  dc_count_jun  \\\n",
       "count  15000.000000  15000.000000  15000.000000  15000.000000  15000.000000   \n",
       "mean      33.490200     41.507000     17.171000     13.979733     30.287267   \n",
       "std       49.540999     47.342918     19.359678     17.087203     29.252490   \n",
       "min        1.000000      1.000000      1.000000      1.000000      1.000000   \n",
       "25%        8.000000     10.000000      2.000000      2.000000      4.000000   \n",
       "50%       23.000000     35.000000      7.000000      5.000000     17.000000   \n",
       "75%       43.000000     61.000000     25.000000     21.000000     54.000000   \n",
       "max      601.000000    653.000000     82.000000     71.000000     98.000000   \n",
       "\n",
       "             card_lim  personal_loan_active  vehicle_loan_active  \\\n",
       "count    15000.000000               15000.0              15000.0   \n",
       "mean    277005.147400                   1.0                  1.0   \n",
       "std     179429.540139                   0.0                  0.0   \n",
       "min          0.000000                   1.0                  1.0   \n",
       "25%     124000.000000                   1.0                  1.0   \n",
       "50%     272000.000000                   1.0                  1.0   \n",
       "75%     400000.000000                   1.0                  1.0   \n",
       "max    1000000.000000                   1.0                  1.0   \n",
       "\n",
       "       personal_loan_closed  vehicle_loan_closed  investment_1  investment_2  \\\n",
       "count               15000.0              15000.0  1.500000e+04  1.500000e+04   \n",
       "mean                    1.0                  1.0  6.194140e+05  2.333642e+05   \n",
       "std                     0.0                  0.0  3.087815e+06  4.073237e+05   \n",
       "min                     1.0                  1.0  3.000000e-01  3.000000e+00   \n",
       "25%                     1.0                  1.0  6.100000e+03  3.817300e+04   \n",
       "50%                     1.0                  1.0  4.503600e+04  1.110000e+05   \n",
       "75%                     1.0                  1.0  1.617040e+05  2.450000e+05   \n",
       "max                     1.0                  1.0  6.597743e+07  5.000000e+06   \n",
       "\n",
       "        investment_3  investment_4  debit_amount_apr  credit_amount_apr  \\\n",
       "count   15000.000000  15000.000000      1.500000e+04       1.500000e+04   \n",
       "mean    44440.348527   3523.049025      6.823421e+04       8.079761e+04   \n",
       "std     88113.186017   7373.355434      1.126786e+05       1.989060e+05   \n",
       "min       462.000000 -12179.000000      4.010000e+00       6.138000e+01   \n",
       "25%      2214.000000      0.000000      2.323043e+04       2.684600e+04   \n",
       "50%     13873.000000   2351.000000      4.187560e+04       4.709700e+04   \n",
       "75%     48950.000000   6885.000000      7.536829e+04       8.593500e+04   \n",
       "max    610000.000000  35346.000000      5.156864e+06       1.059212e+07   \n",
       "\n",
       "       debit_count_apr  credit_count_apr  max_credit_amount_apr  \\\n",
       "count     15000.000000      15000.000000           1.500000e+04   \n",
       "mean         36.400267         11.291400           5.438954e+04   \n",
       "std          30.700996         12.670785           1.950943e+05   \n",
       "min           0.000000          0.000000           1.000000e+00   \n",
       "25%          11.000000          2.000000           2.068300e+04   \n",
       "50%          32.000000          5.000000           3.191500e+04   \n",
       "75%          52.000000         19.000000           5.255900e+04   \n",
       "max         147.000000         78.000000           1.202915e+07   \n",
       "\n",
       "       debit_amount_may  credit_amount_may  credit_count_may  debit_count_may  \\\n",
       "count      1.500000e+04       1.500000e+04      15000.000000     15000.000000   \n",
       "mean       6.554492e+04       8.356935e+04         11.923133        40.996867   \n",
       "std        1.016829e+05       1.776300e+05         16.843563        40.537354   \n",
       "min        2.820000e+01       1.061000e+01          0.000000         0.000000   \n",
       "25%        2.100333e+04       2.541027e+04          2.000000        11.000000   \n",
       "50%        3.823568e+04       4.814000e+04          4.000000        23.000000   \n",
       "75%        7.440055e+04       9.456936e+04         11.000000        69.000000   \n",
       "max        4.252567e+06       1.060175e+07         71.000000       171.000000   \n",
       "\n",
       "       max_credit_amount_may  debit_amount_jun  credit_amount_jun  \\\n",
       "count           1.500000e+04      1.500000e+04       1.500000e+04   \n",
       "mean            5.718791e+04      7.615987e+04       7.850316e+04   \n",
       "std             2.000194e+05      1.545112e+05       1.482005e+05   \n",
       "min             2.500000e-01      5.230000e+00       1.188000e+01   \n",
       "25%             2.008300e+04      2.573259e+04       2.492008e+04   \n",
       "50%             3.140300e+04      4.580365e+04       4.590000e+04   \n",
       "75%             5.598600e+04      8.461910e+04       8.559233e+04   \n",
       "max             1.000000e+07      6.539810e+06       6.611953e+06   \n",
       "\n",
       "       credit_count_jun  debit_count_jun  max_credit_amount_jun    emi_active  \\\n",
       "count      15000.000000     15000.000000           1.500000e+04  1.500000e+04   \n",
       "mean          19.946400        44.647867           5.258654e+04  1.576040e+04   \n",
       "std           27.200165        35.089082           1.282601e+05  1.179153e+05   \n",
       "min            1.000000         0.000000           6.000000e-02  0.000000e+00   \n",
       "25%            4.000000        12.000000           1.903800e+04  1.548510e+03   \n",
       "50%            7.000000        38.000000           3.042550e+04  3.954430e+03   \n",
       "75%           21.000000        73.000000           5.321100e+04  9.376390e+03   \n",
       "max          117.000000       133.000000           5.200000e+06  7.447125e+06   \n",
       "\n",
       "             cc_cons  \n",
       "count   15000.000000  \n",
       "mean    55157.729867  \n",
       "std     97670.972252  \n",
       "min         0.000000  \n",
       "25%      6768.000000  \n",
       "50%     13364.000000  \n",
       "75%     20105.750000  \n",
       "max    408382.000000  "
      ]
     },
     "execution_count": 10,
     "metadata": {},
     "output_type": "execute_result"
    }
   ],
   "source": [
    "# Describe train dataset with statistics\n",
    "\n",
    "train.describe()"
   ]
  },
  {
   "cell_type": "code",
   "execution_count": 11,
   "metadata": {},
   "outputs": [
    {
     "name": "stdout",
     "output_type": "stream",
     "text": [
      "Skewness of cc_cons is: 2.126581960835585 \n",
      "Kurtosis of cc_cons is: 3.2629409344043707 \n"
     ]
    }
   ],
   "source": [
    "# Print skewness ans kurtosis for the target variable('cc_cons')\n",
    "\n",
    "print('Skewness of cc_cons is: {} '.format(train['cc_cons'].skew()))\n",
    "print('Kurtosis of cc_cons is: {} '.format(train['cc_cons'].kurt()))"
   ]
  },
  {
   "cell_type": "code",
   "execution_count": 12,
   "metadata": {},
   "outputs": [
    {
     "data": {
      "text/plain": [
       "<matplotlib.axes._subplots.AxesSubplot at 0x15324b3b048>"
      ]
     },
     "execution_count": 12,
     "metadata": {},
     "output_type": "execute_result"
    },
    {
     "data": {
      "image/png": "[encoded data removed]",
      "text/plain": [
       "<Figure size 432x288 with 1 Axes>"
      ]
     },
     "metadata": {
      "needs_background": "light"
     },
     "output_type": "display_data"
    }
   ],
   "source": [
    "# Ploting distribution of target variable('cc_cons')\n",
    "\n",
    "sns.distplot(train['cc_cons'])"
   ]
  },
  {
   "cell_type": "markdown",
   "metadata": {},
   "source": [
    "We can see the frequency distribution of the target variable is very skewed"
   ]
  },
  {
   "cell_type": "code",
   "execution_count": 13,
   "metadata": {
    "scrolled": true
   },
   "outputs": [
    {
     "data": {
      "text/plain": [
       "array([[<matplotlib.axes._subplots.AxesSubplot object at 0x0000015324B680B8>,\n",
       "        <matplotlib.axes._subplots.AxesSubplot object at 0x0000015325ADDEB8>,\n",
       "        <matplotlib.axes._subplots.AxesSubplot object at 0x0000015325B0F588>,\n",
       "        <matplotlib.axes._subplots.AxesSubplot object at 0x0000015325B38C18>,\n",
       "        <matplotlib.axes._subplots.AxesSubplot object at 0x0000015325B6A2E8>,\n",
       "        <matplotlib.axes._subplots.AxesSubplot object at 0x0000015325B6A320>],\n",
       "       [<matplotlib.axes._subplots.AxesSubplot object at 0x0000015325BC2048>,\n",
       "        <matplotlib.axes._subplots.AxesSubplot object at 0x0000015325BEA6D8>,\n",
       "        <matplotlib.axes._subplots.AxesSubplot object at 0x0000015325C11D68>,\n",
       "        <matplotlib.axes._subplots.AxesSubplot object at 0x0000015325C41438>,\n",
       "        <matplotlib.axes._subplots.AxesSubplot object at 0x0000015325C6AAC8>,\n",
       "        <matplotlib.axes._subplots.AxesSubplot object at 0x0000015325C9C198>],\n",
       "       [<matplotlib.axes._subplots.AxesSubplot object at 0x0000015325CC3828>,\n",
       "        <matplotlib.axes._subplots.AxesSubplot object at 0x0000015325CEAEB8>,\n",
       "        <matplotlib.axes._subplots.AxesSubplot object at 0x0000015325D1B588>,\n",
       "        <matplotlib.axes._subplots.AxesSubplot object at 0x0000015325D43C18>,\n",
       "        <matplotlib.axes._subplots.AxesSubplot object at 0x0000015325D752E8>,\n",
       "        <matplotlib.axes._subplots.AxesSubplot object at 0x0000015325D9D940>],\n",
       "       [<matplotlib.axes._subplots.AxesSubplot object at 0x0000015325DC5FD0>,\n",
       "        <matplotlib.axes._subplots.AxesSubplot object at 0x0000015325DF76A0>,\n",
       "        <matplotlib.axes._subplots.AxesSubplot object at 0x0000015325E1FD30>,\n",
       "        <matplotlib.axes._subplots.AxesSubplot object at 0x0000015325E54278>,\n",
       "        <matplotlib.axes._subplots.AxesSubplot object at 0x0000015325E7A908>,\n",
       "        <matplotlib.axes._subplots.AxesSubplot object at 0x0000015325EA4F98>],\n",
       "       [<matplotlib.axes._subplots.AxesSubplot object at 0x0000015325ED4668>,\n",
       "        <matplotlib.axes._subplots.AxesSubplot object at 0x0000015325EFDCF8>,\n",
       "        <matplotlib.axes._subplots.AxesSubplot object at 0x0000015325F2E3C8>,\n",
       "        <matplotlib.axes._subplots.AxesSubplot object at 0x0000015325F54A58>,\n",
       "        <matplotlib.axes._subplots.AxesSubplot object at 0x0000015325F8A128>,\n",
       "        <matplotlib.axes._subplots.AxesSubplot object at 0x0000015325FB07B8>],\n",
       "       [<matplotlib.axes._subplots.AxesSubplot object at 0x0000015325FD8E48>,\n",
       "        <matplotlib.axes._subplots.AxesSubplot object at 0x0000015326008518>,\n",
       "        <matplotlib.axes._subplots.AxesSubplot object at 0x0000015326033BA8>,\n",
       "        <matplotlib.axes._subplots.AxesSubplot object at 0x0000015326064278>,\n",
       "        <matplotlib.axes._subplots.AxesSubplot object at 0x000001532608A908>,\n",
       "        <matplotlib.axes._subplots.AxesSubplot object at 0x00000153260B5F98>],\n",
       "       [<matplotlib.axes._subplots.AxesSubplot object at 0x00000153260E5668>,\n",
       "        <matplotlib.axes._subplots.AxesSubplot object at 0x000001532610ECF8>,\n",
       "        <matplotlib.axes._subplots.AxesSubplot object at 0x00000153261403C8>,\n",
       "        <matplotlib.axes._subplots.AxesSubplot object at 0x0000015326167A58>,\n",
       "        <matplotlib.axes._subplots.AxesSubplot object at 0x000001532619A128>,\n",
       "        <matplotlib.axes._subplots.AxesSubplot object at 0x00000153261C07B8>]],\n",
       "      dtype=object)"
      ]
     },
     "execution_count": 13,
     "metadata": {},
     "output_type": "execute_result"
    },
    {
     "data": {
      "image/png": "[encoded data removed]",
      "text/plain": [
       "<Figure size 1440x2160 with 42 Axes>"
      ]
     },
     "metadata": {
      "needs_background": "light"
     },
     "output_type": "display_data"
    }
   ],
   "source": [
    "#Plot Histogram of the numeric train dataset columns \n",
    "\n",
    "train.hist(figsize = (20, 30))"
   ]
  },
  {
   "cell_type": "markdown",
   "metadata": {},
   "source": [
    "We have oberbed with the hsitogram plot that there are some extreme values(outliers), in some variables. Lets plot boxplot for that variables"
   ]
  },
  {
   "cell_type": "markdown",
   "metadata": {},
   "source": [
    "### Ploting box plot for the train dataset columns to see the outliers clearly and treat them"
   ]
  },
  {
   "cell_type": "code",
   "execution_count": 14,
   "metadata": {
    "scrolled": true
   },
   "outputs": [
    {
     "data": {
      "text/plain": [
       "<matplotlib.axes._subplots.AxesSubplot at 0x153284886a0>"
      ]
     },
     "execution_count": 14,
     "metadata": {},
     "output_type": "execute_result"
    },
    {
     "data": {
      "image/png": "[encoded data removed]",
      "text/plain": [
       "<Figure size 864x360 with 1 Axes>"
      ]
     },
     "metadata": {
      "needs_background": "light"
     },
     "output_type": "display_data"
    }
   ],
   "source": [
    "cc_dc_cons_var = train[['cc_cons_apr', 'cc_cons_may', 'cc_cons_jun','dc_cons_apr', 'dc_cons_may', 'dc_cons_jun']]\n",
    "\n",
    "plt.figure(figsize = (12, 5))\n",
    "sns.boxplot(data = cc_dc_cons_var)"
   ]
  },
  {
   "cell_type": "code",
   "execution_count": null,
   "metadata": {},
   "outputs": [],
   "source": []
  },
  {
   "cell_type": "code",
   "execution_count": 15,
   "metadata": {},
   "outputs": [
    {
     "data": {
      "text/plain": [
       "<matplotlib.axes._subplots.AxesSubplot at 0x15328f7c470>"
      ]
     },
     "execution_count": 15,
     "metadata": {},
     "output_type": "execute_result"
    },
    {
     "data": {
      "image/png": "[encoded data removed]",
      "text/plain": [
       "<Figure size 864x360 with 1 Axes>"
      ]
     },
     "metadata": {
      "needs_background": "light"
     },
     "output_type": "display_data"
    }
   ],
   "source": [
    "outl_cc_dc_count = train[['cc_count_apr','cc_count_may', 'cc_count_jun', 'dc_count_apr', 'dc_count_may','dc_count_jun']]\n",
    "\n",
    "plt.figure(figsize = (12, 5))\n",
    "sns.boxplot(data = outl_cc_dc_count)"
   ]
  },
  {
   "cell_type": "code",
   "execution_count": null,
   "metadata": {},
   "outputs": [],
   "source": []
  },
  {
   "cell_type": "code",
   "execution_count": 16,
   "metadata": {},
   "outputs": [
    {
     "data": {
      "text/plain": [
       "<matplotlib.axes._subplots.AxesSubplot at 0x153267e8978>"
      ]
     },
     "execution_count": 16,
     "metadata": {},
     "output_type": "execute_result"
    },
    {
     "data": {
      "image/png": "[encoded data removed]",
      "text/plain": [
       "<Figure size 720x360 with 1 Axes>"
      ]
     },
     "metadata": {
      "needs_background": "light"
     },
     "output_type": "display_data"
    }
   ],
   "source": [
    "outl_invesment = train[['investment_1', 'investment_2', 'investment_3', 'investment_4']]\n",
    "\n",
    "plt.figure(figsize = (10, 5))\n",
    "sns.boxplot(data = outl_invesment)"
   ]
  },
  {
   "cell_type": "code",
   "execution_count": null,
   "metadata": {},
   "outputs": [],
   "source": []
  },
  {
   "cell_type": "code",
   "execution_count": 17,
   "metadata": {},
   "outputs": [
    {
     "data": {
      "text/plain": [
       "<matplotlib.axes._subplots.AxesSubplot at 0x153267f1278>"
      ]
     },
     "execution_count": 17,
     "metadata": {},
     "output_type": "execute_result"
    },
    {
     "data": {
      "image/png": "[encoded data removed]",
      "text/plain": [
       "<Figure size 1008x504 with 1 Axes>"
      ]
     },
     "metadata": {
      "needs_background": "light"
     },
     "output_type": "display_data"
    }
   ],
   "source": [
    "outl_debit_credit_amt = train[['debit_amount_apr', 'debit_amount_may','debit_amount_jun', 'credit_amount_apr', 'credit_amount_may','credit_amount_jun']]\n",
    "\n",
    "plt.figure(figsize = (14, 7))\n",
    "sns.boxplot(data = outl_debit_credit_amt)"
   ]
  },
  {
   "cell_type": "code",
   "execution_count": null,
   "metadata": {},
   "outputs": [],
   "source": []
  },
  {
   "cell_type": "code",
   "execution_count": 18,
   "metadata": {
    "scrolled": true
   },
   "outputs": [
    {
     "data": {
      "text/plain": [
       "<matplotlib.axes._subplots.AxesSubplot at 0x153267bc400>"
      ]
     },
     "execution_count": 18,
     "metadata": {},
     "output_type": "execute_result"
    },
    {
     "data": {
      "image/png": "[encoded data removed]",
      "text/plain": [
       "<Figure size 1008x360 with 1 Axes>"
      ]
     },
     "metadata": {
      "needs_background": "light"
     },
     "output_type": "display_data"
    }
   ],
   "source": [
    "outl_debit_credit_count = train[['debit_count_apr', 'debit_count_may', 'debit_count_jun', 'credit_count_apr', 'credit_count_may', 'credit_count_jun']]\n",
    "\n",
    "plt.figure(figsize = (14, 5))\n",
    "sns.boxplot(data = outl_debit_credit_count)"
   ]
  },
  {
   "cell_type": "code",
   "execution_count": null,
   "metadata": {},
   "outputs": [],
   "source": []
  },
  {
   "cell_type": "code",
   "execution_count": 19,
   "metadata": {},
   "outputs": [
    {
     "data": {
      "text/plain": [
       "<matplotlib.axes._subplots.AxesSubplot at 0x15326ba2ac8>"
      ]
     },
     "execution_count": 19,
     "metadata": {},
     "output_type": "execute_result"
    },
    {
     "data": {
      "image/png": "[encoded data removed]",
      "text/plain": [
       "<Figure size 576x360 with 1 Axes>"
      ]
     },
     "metadata": {
      "needs_background": "light"
     },
     "output_type": "display_data"
    }
   ],
   "source": [
    "outl_max_cred_amnt = train[['max_credit_amount_apr', 'max_credit_amount_may', 'max_credit_amount_jun']]\n",
    "\n",
    "plt.figure(figsize = (8, 5))\n",
    "sns.boxplot(data = outl_max_cred_amnt)"
   ]
  },
  {
   "cell_type": "code",
   "execution_count": 20,
   "metadata": {
    "scrolled": true
   },
   "outputs": [
    {
     "data": {
      "text/plain": [
       "<matplotlib.axes._subplots.AxesSubplot at 0x15326907710>"
      ]
     },
     "execution_count": 20,
     "metadata": {},
     "output_type": "execute_result"
    },
    {
     "data": {
      "image/png": "[encoded data removed]",
      "text/plain": [
       "<Figure size 1080x288 with 1 Axes>"
      ]
     },
     "metadata": {
      "needs_background": "light"
     },
     "output_type": "display_data"
    }
   ],
   "source": [
    "plt.figure(figsize = (15, 4))\n",
    "\n",
    "sns.boxplot(train['age'])"
   ]
  },
  {
   "cell_type": "code",
   "execution_count": 21,
   "metadata": {
    "scrolled": true
   },
   "outputs": [
    {
     "data": {
      "text/plain": [
       "<matplotlib.axes._subplots.AxesSubplot at 0x1532695b978>"
      ]
     },
     "execution_count": 21,
     "metadata": {},
     "output_type": "execute_result"
    },
    {
     "data": {
      "image/png": "[encoded data removed]",
      "text/plain": [
       "<Figure size 1080x288 with 1 Axes>"
      ]
     },
     "metadata": {
      "needs_background": "light"
     },
     "output_type": "display_data"
    }
   ],
   "source": [
    "plt.figure(figsize = (15, 4))\n",
    "\n",
    "sns.boxplot(train['card_lim'])"
   ]
  },
  {
   "cell_type": "code",
   "execution_count": 22,
   "metadata": {
    "scrolled": true
   },
   "outputs": [
    {
     "data": {
      "text/plain": [
       "<matplotlib.axes._subplots.AxesSubplot at 0x153268f9c50>"
      ]
     },
     "execution_count": 22,
     "metadata": {},
     "output_type": "execute_result"
    },
    {
     "data": {
      "image/png": "[encoded data removed]",
      "text/plain": [
       "<Figure size 1080x288 with 1 Axes>"
      ]
     },
     "metadata": {
      "needs_background": "light"
     },
     "output_type": "display_data"
    }
   ],
   "source": [
    "plt.figure(figsize = (15, 4))\n",
    "\n",
    "sns.boxplot(train['emi_active'])"
   ]
  },
  {
   "cell_type": "code",
   "execution_count": 23,
   "metadata": {},
   "outputs": [
    {
     "data": {
      "text/plain": [
       "<matplotlib.axes._subplots.AxesSubplot at 0x15325a92d30>"
      ]
     },
     "execution_count": 23,
     "metadata": {},
     "output_type": "execute_result"
    },
    {
     "data": {
      "image/png": "[encoded data removed]",
      "text/plain": [
       "<Figure size 1080x288 with 1 Axes>"
      ]
     },
     "metadata": {
      "needs_background": "light"
     },
     "output_type": "display_data"
    }
   ],
   "source": [
    "plt.figure(figsize = (15, 4))\n",
    "\n",
    "sns.boxplot(train['cc_cons'])"
   ]
  },
  {
   "cell_type": "code",
   "execution_count": 24,
   "metadata": {},
   "outputs": [],
   "source": [
    "#storing the numerical and categorical columns seperately of the train dataset\n",
    "\n",
    "num_var = train.select_dtypes(include = 'number')\n",
    "cat_var = train.select_dtypes(include = 'object')"
   ]
  },
  {
   "cell_type": "code",
   "execution_count": 25,
   "metadata": {
    "scrolled": false
   },
   "outputs": [
    {
     "name": "stdout",
     "output_type": "stream",
     "text": [
      "These are the numerical columns:\n",
      "\n",
      " Index(['age', 'region_code', 'cc_cons_apr', 'dc_cons_apr', 'cc_cons_may',\n",
      "       'dc_cons_may', 'cc_cons_jun', 'dc_cons_jun', 'cc_count_apr',\n",
      "       'cc_count_may', 'cc_count_jun', 'dc_count_apr', 'dc_count_may',\n",
      "       'dc_count_jun', 'card_lim', 'personal_loan_active',\n",
      "       'vehicle_loan_active', 'personal_loan_closed', 'vehicle_loan_closed',\n",
      "       'investment_1', 'investment_2', 'investment_3', 'investment_4',\n",
      "       'debit_amount_apr', 'credit_amount_apr', 'debit_count_apr',\n",
      "       'credit_count_apr', 'max_credit_amount_apr', 'debit_amount_may',\n",
      "       'credit_amount_may', 'credit_count_may', 'debit_count_may',\n",
      "       'max_credit_amount_may', 'debit_amount_jun', 'credit_amount_jun',\n",
      "       'credit_count_jun', 'debit_count_jun', 'max_credit_amount_jun',\n",
      "       'emi_active', 'cc_cons'],\n",
      "      dtype='object')\n",
      "40\n",
      "\n",
      "These are the categorical columns: \n",
      "\n",
      " Index(['account_type', 'gender', 'loan_enq'], dtype='object')\n"
     ]
    }
   ],
   "source": [
    "# Print numerical and categorical columns\n",
    "\n",
    "print('These are the numerical columns:')\n",
    "print('\\n', num_var.columns)\n",
    "print(len(num_var.columns))\n",
    "print()\n",
    "print('These are the categorical columns: ')\n",
    "print('\\n', cat_var.columns)"
   ]
  },
  {
   "cell_type": "code",
   "execution_count": 26,
   "metadata": {
    "scrolled": true
   },
   "outputs": [
    {
     "data": {
      "text/plain": [
       "<seaborn.axisgrid.PairGrid at 0x15326be6c50>"
      ]
     },
     "execution_count": 26,
     "metadata": {},
     "output_type": "execute_result"
    },
    {
     "data": {
      "image/png": "[encoded data removed]",
      "text/plain": [
       "<Figure size 900x900 with 30 Axes>"
      ]
     },
     "metadata": {
      "needs_background": "light"
     },
     "output_type": "display_data"
    }
   ],
   "source": [
    "# Ploting the pairplot for all the numerical variables with respect to target variable('cc_cons')\n",
    "\n",
    "sns.pairplot(num_var[['cc_cons', 'age', 'cc_cons_apr', 'cc_cons_may', 'cc_cons_jun']])"
   ]
  },
  {
   "cell_type": "markdown",
   "metadata": {},
   "source": [
    "### Ploting countplot for the categorical columns of train dataset"
   ]
  },
  {
   "cell_type": "code",
   "execution_count": 27,
   "metadata": {},
   "outputs": [
    {
     "data": {
      "text/plain": [
       "<matplotlib.axes._subplots.AxesSubplot at 0x1532a83a710>"
      ]
     },
     "execution_count": 27,
     "metadata": {},
     "output_type": "execute_result"
    },
    {
     "data": {
      "image/png": "[encoded data removed]",
      "text/plain": [
       "<Figure size 432x288 with 1 Axes>"
      ]
     },
     "metadata": {
      "needs_background": "light"
     },
     "output_type": "display_data"
    }
   ],
   "source": [
    "# Plot the count plot for the categorical variables\n",
    "\n",
    "sns.countplot(x = 'account_type', data = cat_var)"
   ]
  },
  {
   "cell_type": "code",
   "execution_count": 28,
   "metadata": {},
   "outputs": [
    {
     "data": {
      "text/plain": [
       "<matplotlib.axes._subplots.AxesSubplot at 0x1532bdbe320>"
      ]
     },
     "execution_count": 28,
     "metadata": {},
     "output_type": "execute_result"
    },
    {
     "data": {
      "image/png": "[encoded data removed]",
      "text/plain": [
       "<Figure size 432x288 with 1 Axes>"
      ]
     },
     "metadata": {
      "needs_background": "light"
     },
     "output_type": "display_data"
    }
   ],
   "source": [
    "sns.countplot(x = 'gender', data = train)"
   ]
  },
  {
   "cell_type": "code",
   "execution_count": 29,
   "metadata": {},
   "outputs": [
    {
     "data": {
      "text/plain": [
       "<matplotlib.axes._subplots.AxesSubplot at 0x1532b93feb8>"
      ]
     },
     "execution_count": 29,
     "metadata": {},
     "output_type": "execute_result"
    },
    {
     "data": {
      "image/png": "[encoded data removed]",
      "text/plain": [
       "<Figure size 216x288 with 1 Axes>"
      ]
     },
     "metadata": {
      "needs_background": "light"
     },
     "output_type": "display_data"
    }
   ],
   "source": [
    "plt.figure(figsize = (3, 4))\n",
    "\n",
    "sns.countplot(x = 'loan_enq', data = train)"
   ]
  },
  {
   "cell_type": "code",
   "execution_count": 30,
   "metadata": {
    "scrolled": false
   },
   "outputs": [
    {
     "data": {
      "text/plain": [
       "<matplotlib.axes._subplots.AxesSubplot at 0x1532be6b7b8>"
      ]
     },
     "execution_count": 30,
     "metadata": {},
     "output_type": "execute_result"
    },
    {
     "data": {
      "image/png": "[encoded data removed]",
      "text/plain": [
       "<Figure size 720x576 with 2 Axes>"
      ]
     },
     "metadata": {
      "needs_background": "light"
     },
     "output_type": "display_data"
    }
   ],
   "source": [
    "# Ploting heatmap for the numerical columns of train dataset to check the correlation between numerical columns of train dataset\n",
    "\n",
    "corr = num_var.corr()\n",
    "plt.figure(figsize = (10, 8))\n",
    "sns.heatmap(corr)"
   ]
  },
  {
   "cell_type": "markdown",
   "metadata": {},
   "source": [
    "#### By depicted heatmap we can observe that some columns(personal_loan_active, vehicle_loan_active, personal_loan_closed, vehicle_loan_closed) are highly corelated with each other that will affect the performance of the model. Lets remove these columns"
   ]
  },
  {
   "cell_type": "code",
   "execution_count": 124,
   "metadata": {},
   "outputs": [
    {
     "data": {
      "text/plain": [
       "(5000, 42)"
      ]
     },
     "execution_count": 124,
     "metadata": {},
     "output_type": "execute_result"
    }
   ],
   "source": [
    "test.shape"
   ]
  },
  {
   "cell_type": "code",
   "execution_count": 145,
   "metadata": {},
   "outputs": [],
   "source": [
    "# Removing highly corelated column\n",
    "\n",
    "train.drop(['region_code', 'loan_enq', 'personal_loan_active', 'vehicle_loan_active', 'personal_loan_closed', 'vehicle_loan_closed'], 1, inplace = True)\n",
    "test.drop(['region_code', 'loan_enq', 'personal_loan_active', 'vehicle_loan_active', 'personal_loan_closed', 'vehicle_loan_closed'], 1, inplace = True)"
   ]
  },
  {
   "cell_type": "markdown",
   "metadata": {},
   "source": [
    "## Preprocessing"
   ]
  },
  {
   "cell_type": "markdown",
   "metadata": {},
   "source": [
    "#### As we have seen earlier the distribution of the target value of the train dataset is highly skewed. Lets take the log for that column to make it normal distribute."
   ]
  },
  {
   "cell_type": "code",
   "execution_count": 32,
   "metadata": {},
   "outputs": [],
   "source": [
    "# Taking log for cc_cons(target variable) variable of the train dataset \n",
    "\n",
    "train['cc_cons'] = train['cc_cons'].apply(lambda x: np.log(x+1))"
   ]
  },
  {
   "cell_type": "code",
   "execution_count": 33,
   "metadata": {},
   "outputs": [
    {
     "name": "stdout",
     "output_type": "stream",
     "text": [
      "Skewness of cc_cons is: 0.09391470433219626 \n",
      "Kurtosis of cc_cons is: 0.6349588641161339 \n"
     ]
    }
   ],
   "source": [
    "# Print skewness ans kurtosis for the target variable('cc_cons') after taking log\n",
    "\n",
    "print('Skewness of cc_cons is: {} '.format(train['cc_cons'].skew()))\n",
    "print('Kurtosis of cc_cons is: {} '.format(train['cc_cons'].kurt()))"
   ]
  },
  {
   "cell_type": "code",
   "execution_count": 34,
   "metadata": {},
   "outputs": [
    {
     "data": {
      "text/plain": [
       "<matplotlib.axes._subplots.AxesSubplot at 0x1532c171748>"
      ]
     },
     "execution_count": 34,
     "metadata": {},
     "output_type": "execute_result"
    },
    {
     "data": {
      "image/png": "[encoded data removed]",
      "text/plain": [
       "<Figure size 432x288 with 1 Axes>"
      ]
     },
     "metadata": {
      "needs_background": "light"
     },
     "output_type": "display_data"
    }
   ],
   "source": [
    "# Ploting distribution of target variable('cc_cons') after taking log\n",
    "\n",
    "sns.distplot(train['cc_cons'])"
   ]
  },
  {
   "cell_type": "markdown",
   "metadata": {},
   "source": [
    "now the distribution of cc_cons is much better for futher process"
   ]
  },
  {
   "cell_type": "code",
   "execution_count": 35,
   "metadata": {
    "scrolled": true
   },
   "outputs": [],
   "source": [
    "# train[train['emi_active'] > 2000000]"
   ]
  },
  {
   "cell_type": "code",
   "execution_count": 36,
   "metadata": {
    "scrolled": true
   },
   "outputs": [],
   "source": [
    "# train[train['emi_active'] > 100000].count()"
   ]
  },
  {
   "cell_type": "code",
   "execution_count": 37,
   "metadata": {},
   "outputs": [],
   "source": [
    "# train.drop(train[train['emi_active'] >= 2000000].index, inplace = True)"
   ]
  },
  {
   "cell_type": "code",
   "execution_count": 38,
   "metadata": {},
   "outputs": [],
   "source": [
    "# train['emi_active'] = train['emi_active'].mask(train['emi_active'] >= 100000, train['emi_active'].mean())"
   ]
  },
  {
   "cell_type": "code",
   "execution_count": 39,
   "metadata": {},
   "outputs": [],
   "source": [
    "# print(train['emi_active'].mean())\n",
    "# print(train['emi_active'].median())\n",
    "# print(train['emi_active'].mode())"
   ]
  },
  {
   "cell_type": "code",
   "execution_count": 40,
   "metadata": {},
   "outputs": [],
   "source": [
    "# print(train['cc_cons'].min())\n",
    "# print(train['cc_cons'].max())"
   ]
  },
  {
   "cell_type": "code",
   "execution_count": 41,
   "metadata": {
    "scrolled": true
   },
   "outputs": [],
   "source": [
    "# train['card_lim'].value_counts()"
   ]
  },
  {
   "cell_type": "code",
   "execution_count": 42,
   "metadata": {},
   "outputs": [],
   "source": [
    "# Treating with outliers of 'cc_cons_apr', 'cc_cons_may', 'cc_cons_jun','dc_cons_apr', 'dc_cons_may', 'dc_cons_jun' columns\n",
    "\n",
    "train.drop(train[train['cc_cons_apr'] >= 400000].index, inplace = True)\n",
    "train.drop(train[train['cc_cons_may'] >= 400000].index, inplace = True)\n",
    "train.drop(train[train['cc_cons_jun'] >= 400000].index, inplace = True)\n",
    "train.drop(train[train['dc_cons_apr'] >= 400000].index, inplace = True)\n",
    "train.drop(train[train['dc_cons_may'] >= 400000].index, inplace = True)\n",
    "train.drop(train[train['dc_cons_jun'] >= 400000].index, inplace = True)"
   ]
  },
  {
   "cell_type": "code",
   "execution_count": 43,
   "metadata": {},
   "outputs": [],
   "source": [
    "# Treating with outliers of 'cc_count_apr','cc_count_may', 'cc_count_jun' columns\n",
    "\n",
    "train['cc_count_apr'] = train['cc_count_apr'].mask(train['cc_count_apr'] >= 400, train['cc_count_apr'].median())\n",
    "train['cc_count_may'] = train['cc_count_may'].mask(train['cc_count_may'] >= 400, train['cc_count_may'].median())\n",
    "train['cc_count_jun'] = train['cc_count_jun'].mask(train['cc_count_jun'] >= 400, train['cc_count_jun'].median())"
   ]
  },
  {
   "cell_type": "code",
   "execution_count": 44,
   "metadata": {},
   "outputs": [],
   "source": [
    "# Treating with outliers of 'investment_1', 'investment_2' 'investment_4' columns\n",
    "\n",
    "train.drop(train[train['investment_1'] >= 40000000].index, inplace = True)\n",
    "train['investment_1'] = train['investment_1'].mask(train['investment_1'] >= 1000000, train['investment_1'].mean())\n",
    "train['investment_2'] = train['investment_2'].mask(train['investment_2'] >= 1000000, train['investment_2'].mean())\n",
    "train['investment_4'] = train['investment_4'].abs()"
   ]
  },
  {
   "cell_type": "code",
   "execution_count": 45,
   "metadata": {},
   "outputs": [],
   "source": [
    "# Treating with outliers of 'debit_amount_apr', 'debit_amount_may','debit_amount_jun', 'credit_amount_apr', 'credit_amount_may','credit_amount_jun' columns\n",
    "\n",
    "train.drop(train[train['credit_amount_apr'] >= 10000000].index, inplace = True)\n",
    "train.drop(train[train['credit_amount_may'] >= 10000000].index, inplace = True)\n",
    "train.drop(train[train['credit_amount_jun'] >= 5000000].index, inplace = True)\n",
    "train.drop(train[train['debit_amount_apr'] >= 5000000].index, inplace = True)\n",
    "train.drop(train[train['debit_amount_jun'] >= 5000000].index, inplace = True)\n",
    "train['debit_amount_jun'] = train['debit_amount_jun'].mask(train['debit_amount_jun'] >= 3000000, train['debit_amount_jun'].mean())\n",
    "train['credit_amount_may'] = train['credit_amount_may'].mask(train['credit_amount_may'] >= 3000000, train['credit_amount_may'].mean())\n",
    "train['credit_amount_apr'] = train['credit_amount_apr'].mask(train['credit_amount_apr'] >= 3000000, train['credit_amount_apr'].mean())\n",
    "train['debit_amount_may'] = train['debit_amount_may'].mask(train['debit_amount_may'] >= 3000000, train['debit_amount_may'].mean())"
   ]
  },
  {
   "cell_type": "code",
   "execution_count": 46,
   "metadata": {},
   "outputs": [],
   "source": [
    "# Treating with outliers of 'debit_count_apr', 'debit_count_may', 'credit_count_jun' columns\n",
    "\n",
    "train['debit_count_apr'] = train['debit_count_apr'].mask(train['debit_count_apr'] >= 140, train['debit_count_apr'].median())\n",
    "train['debit_count_may'] = train['debit_count_may'].mask(train['debit_count_may'] >= 150, train['debit_count_may'].median())\n",
    "train['credit_count_jun'] = train['credit_count_jun'].mask(train['credit_count_jun'] >= 100, train['credit_count_jun'].median())"
   ]
  },
  {
   "cell_type": "code",
   "execution_count": 47,
   "metadata": {},
   "outputs": [],
   "source": [
    "# Treating with outliers of 'max_credit_amount_apr', 'max_credit_amount_may', 'max_credit_amount_jun' columns\n",
    "\n",
    "train.drop(train[train['max_credit_amount_apr'] >= 10000000].index, inplace = True)\n",
    "train.drop(train[train['max_credit_amount_may'] >= 8000000].index, inplace = True)\n",
    "train.drop(train[train['max_credit_amount_jun'] >= 5000000].index, inplace = True)\n",
    "train.drop(train[train['max_credit_amount_apr'] >= 2500000].index, inplace = True)\n",
    "train.drop(train[train['max_credit_amount_may'] >= 2500000].index, inplace = True)\n",
    "train.drop(train[train['max_credit_amount_jun'] >= 2500000].index, inplace = True)"
   ]
  },
  {
   "cell_type": "code",
   "execution_count": 48,
   "metadata": {},
   "outputs": [],
   "source": [
    "# Treating with outliers of age column\n",
    "\n",
    "train['age'] = train['age'].mask(train['age'] >= 100, train['age'].median())"
   ]
  },
  {
   "cell_type": "code",
   "execution_count": 49,
   "metadata": {},
   "outputs": [],
   "source": [
    "# Treating with outliers of card_lim column\n",
    "\n",
    "train['card_lim'] = train['card_lim'].mask(train['card_lim'] >= 800000, train['card_lim'].mean())"
   ]
  },
  {
   "cell_type": "code",
   "execution_count": 50,
   "metadata": {},
   "outputs": [],
   "source": [
    "# Treating with outliers of emi_active column\n",
    "\n",
    "train.drop(train[train['emi_active'] >= 7000000].index, inplace = True)\n",
    "train.drop(train[train['emi_active'] >= 2000000].index, inplace = True)\n",
    "train['emi_active'] = train['emi_active'].mask(train['emi_active'] >= 100000, train['emi_active'].mean())"
   ]
  },
  {
   "cell_type": "markdown",
   "metadata": {},
   "source": [
    "#### Numerically encode categorical features because most models can only handle numerical features."
   ]
  },
  {
   "cell_type": "code",
   "execution_count": 146,
   "metadata": {},
   "outputs": [],
   "source": [
    "train = pd.get_dummies(train, columns = ['account_type', 'gender'])\n",
    "test =  pd.get_dummies(test, columns = ['account_type', 'gender'])"
   ]
  },
  {
   "cell_type": "code",
   "execution_count": 128,
   "metadata": {},
   "outputs": [
    {
     "data": {
      "text/plain": [
       "(5000, 36)"
      ]
     },
     "execution_count": 128,
     "metadata": {},
     "output_type": "execute_result"
    }
   ],
   "source": [
    "test.shape"
   ]
  },
  {
   "cell_type": "code",
   "execution_count": 129,
   "metadata": {},
   "outputs": [
    {
     "data": {
      "text/html": [
       "<div>\n",
       "<style scoped>\n",
       "    .dataframe tbody tr th:only-of-type {\n",
       "        vertical-align: middle;\n",
       "    }\n",
       "\n",
       "    .dataframe tbody tr th {\n",
       "        vertical-align: top;\n",
       "    }\n",
       "\n",
       "    .dataframe thead th {\n",
       "        text-align: right;\n",
       "    }\n",
       "</style>\n",
       "<table border=\"1\" class=\"dataframe\">\n",
       "  <thead>\n",
       "    <tr style=\"text-align: right;\">\n",
       "      <th></th>\n",
       "      <th>account_type</th>\n",
       "      <th>gender</th>\n",
       "      <th>age</th>\n",
       "      <th>cc_cons_apr</th>\n",
       "      <th>dc_cons_apr</th>\n",
       "      <th>cc_cons_may</th>\n",
       "      <th>dc_cons_may</th>\n",
       "      <th>cc_cons_jun</th>\n",
       "      <th>dc_cons_jun</th>\n",
       "      <th>cc_count_apr</th>\n",
       "      <th>cc_count_may</th>\n",
       "      <th>cc_count_jun</th>\n",
       "      <th>dc_count_apr</th>\n",
       "      <th>dc_count_may</th>\n",
       "      <th>dc_count_jun</th>\n",
       "      <th>card_lim</th>\n",
       "      <th>investment_1</th>\n",
       "      <th>investment_2</th>\n",
       "      <th>investment_3</th>\n",
       "      <th>investment_4</th>\n",
       "      <th>debit_amount_apr</th>\n",
       "      <th>credit_amount_apr</th>\n",
       "      <th>debit_count_apr</th>\n",
       "      <th>credit_count_apr</th>\n",
       "      <th>max_credit_amount_apr</th>\n",
       "      <th>debit_amount_may</th>\n",
       "      <th>credit_amount_may</th>\n",
       "      <th>credit_count_may</th>\n",
       "      <th>debit_count_may</th>\n",
       "      <th>max_credit_amount_may</th>\n",
       "      <th>debit_amount_jun</th>\n",
       "      <th>credit_amount_jun</th>\n",
       "      <th>credit_count_jun</th>\n",
       "      <th>debit_count_jun</th>\n",
       "      <th>max_credit_amount_jun</th>\n",
       "      <th>emi_active</th>\n",
       "    </tr>\n",
       "  </thead>\n",
       "  <tbody>\n",
       "    <tr>\n",
       "      <th>0</th>\n",
       "      <td>current</td>\n",
       "      <td>M</td>\n",
       "      <td>37</td>\n",
       "      <td>2795.45</td>\n",
       "      <td>1290.0</td>\n",
       "      <td>6141.05</td>\n",
       "      <td>676.50</td>\n",
       "      <td>9146.10</td>\n",
       "      <td>15479.00</td>\n",
       "      <td>4.0</td>\n",
       "      <td>10.0</td>\n",
       "      <td>4.0</td>\n",
       "      <td>47.0</td>\n",
       "      <td>56.0</td>\n",
       "      <td>6.0</td>\n",
       "      <td>125000.0</td>\n",
       "      <td>13.80</td>\n",
       "      <td>376600.50</td>\n",
       "      <td>1633.0</td>\n",
       "      <td>-5715.49023</td>\n",
       "      <td>27646.84</td>\n",
       "      <td>44341.00</td>\n",
       "      <td>16.0</td>\n",
       "      <td>36.0</td>\n",
       "      <td>24485.0</td>\n",
       "      <td>23512.67</td>\n",
       "      <td>41755.0</td>\n",
       "      <td>24.0</td>\n",
       "      <td>20.0</td>\n",
       "      <td>9750.0</td>\n",
       "      <td>30527.88</td>\n",
       "      <td>31271.00</td>\n",
       "      <td>3.0</td>\n",
       "      <td>12.0</td>\n",
       "      <td>25945.92</td>\n",
       "      <td>1170.49</td>\n",
       "    </tr>\n",
       "    <tr>\n",
       "      <th>1</th>\n",
       "      <td>current</td>\n",
       "      <td>M</td>\n",
       "      <td>33</td>\n",
       "      <td>29405.13</td>\n",
       "      <td>1640.0</td>\n",
       "      <td>1670.00</td>\n",
       "      <td>2463.92</td>\n",
       "      <td>10947.50</td>\n",
       "      <td>956.00</td>\n",
       "      <td>3.0</td>\n",
       "      <td>10.0</td>\n",
       "      <td>4.0</td>\n",
       "      <td>50.0</td>\n",
       "      <td>38.0</td>\n",
       "      <td>31.0</td>\n",
       "      <td>59000.0</td>\n",
       "      <td>101891.25</td>\n",
       "      <td>470000.00</td>\n",
       "      <td>891.0</td>\n",
       "      <td>35346.00000</td>\n",
       "      <td>32247.25</td>\n",
       "      <td>21946.00</td>\n",
       "      <td>42.0</td>\n",
       "      <td>5.0</td>\n",
       "      <td>3375.0</td>\n",
       "      <td>15049.44</td>\n",
       "      <td>130299.0</td>\n",
       "      <td>43.0</td>\n",
       "      <td>40.0</td>\n",
       "      <td>16967.0</td>\n",
       "      <td>14342.83</td>\n",
       "      <td>16582.00</td>\n",
       "      <td>6.0</td>\n",
       "      <td>39.0</td>\n",
       "      <td>12214.00</td>\n",
       "      <td>16447.45</td>\n",
       "    </tr>\n",
       "    <tr>\n",
       "      <th>2</th>\n",
       "      <td>current</td>\n",
       "      <td>M</td>\n",
       "      <td>53</td>\n",
       "      <td>5985.20</td>\n",
       "      <td>6189.0</td>\n",
       "      <td>2696.09</td>\n",
       "      <td>766.00</td>\n",
       "      <td>716.00</td>\n",
       "      <td>4133.22</td>\n",
       "      <td>7.0</td>\n",
       "      <td>30.0</td>\n",
       "      <td>5.0</td>\n",
       "      <td>24.0</td>\n",
       "      <td>27.0</td>\n",
       "      <td>2.0</td>\n",
       "      <td>49999.0</td>\n",
       "      <td>53374.97</td>\n",
       "      <td>674291.83</td>\n",
       "      <td>54101.0</td>\n",
       "      <td>2557.00000</td>\n",
       "      <td>63169.00</td>\n",
       "      <td>36616.50</td>\n",
       "      <td>41.0</td>\n",
       "      <td>6.0</td>\n",
       "      <td>14950.0</td>\n",
       "      <td>133659.00</td>\n",
       "      <td>40422.0</td>\n",
       "      <td>42.0</td>\n",
       "      <td>35.0</td>\n",
       "      <td>36398.0</td>\n",
       "      <td>32503.16</td>\n",
       "      <td>33539.54</td>\n",
       "      <td>5.0</td>\n",
       "      <td>9.0</td>\n",
       "      <td>13215.00</td>\n",
       "      <td>2622.28</td>\n",
       "    </tr>\n",
       "    <tr>\n",
       "      <th>3</th>\n",
       "      <td>current</td>\n",
       "      <td>M</td>\n",
       "      <td>33</td>\n",
       "      <td>2105.93</td>\n",
       "      <td>18225.0</td>\n",
       "      <td>34763.56</td>\n",
       "      <td>167.00</td>\n",
       "      <td>4260.27</td>\n",
       "      <td>20185.00</td>\n",
       "      <td>1.0</td>\n",
       "      <td>99.0</td>\n",
       "      <td>71.0</td>\n",
       "      <td>5.0</td>\n",
       "      <td>1.0</td>\n",
       "      <td>11.0</td>\n",
       "      <td>520000.0</td>\n",
       "      <td>9118.35</td>\n",
       "      <td>470000.00</td>\n",
       "      <td>5905.0</td>\n",
       "      <td>5464.00000</td>\n",
       "      <td>39442.80</td>\n",
       "      <td>43173.38</td>\n",
       "      <td>46.0</td>\n",
       "      <td>1.0</td>\n",
       "      <td>235844.0</td>\n",
       "      <td>99686.03</td>\n",
       "      <td>48148.0</td>\n",
       "      <td>3.0</td>\n",
       "      <td>5.0</td>\n",
       "      <td>97825.0</td>\n",
       "      <td>93572.42</td>\n",
       "      <td>109429.75</td>\n",
       "      <td>21.0</td>\n",
       "      <td>0.0</td>\n",
       "      <td>72317.00</td>\n",
       "      <td>340.79</td>\n",
       "    </tr>\n",
       "    <tr>\n",
       "      <th>4</th>\n",
       "      <td>current</td>\n",
       "      <td>M</td>\n",
       "      <td>62</td>\n",
       "      <td>3269.00</td>\n",
       "      <td>3532.0</td>\n",
       "      <td>3158.40</td>\n",
       "      <td>2699.77</td>\n",
       "      <td>3373.48</td>\n",
       "      <td>5120.00</td>\n",
       "      <td>2.0</td>\n",
       "      <td>10.0</td>\n",
       "      <td>47.0</td>\n",
       "      <td>5.0</td>\n",
       "      <td>25.0</td>\n",
       "      <td>1.0</td>\n",
       "      <td>152000.0</td>\n",
       "      <td>12850544.36</td>\n",
       "      <td>101.24</td>\n",
       "      <td>130000.0</td>\n",
       "      <td>1332.00000</td>\n",
       "      <td>8937.00</td>\n",
       "      <td>15232.00</td>\n",
       "      <td>11.0</td>\n",
       "      <td>1.0</td>\n",
       "      <td>14495.0</td>\n",
       "      <td>190374.25</td>\n",
       "      <td>25926.0</td>\n",
       "      <td>70.0</td>\n",
       "      <td>75.0</td>\n",
       "      <td>27936.0</td>\n",
       "      <td>19011.50</td>\n",
       "      <td>41401.00</td>\n",
       "      <td>6.0</td>\n",
       "      <td>35.0</td>\n",
       "      <td>42344.00</td>\n",
       "      <td>2812.20</td>\n",
       "    </tr>\n",
       "  </tbody>\n",
       "</table>\n",
       "</div>"
      ],
      "text/plain": [
       "  account_type gender  age  cc_cons_apr  dc_cons_apr  cc_cons_may  \\\n",
       "0      current      M   37      2795.45       1290.0      6141.05   \n",
       "1      current      M   33     29405.13       1640.0      1670.00   \n",
       "2      current      M   53      5985.20       6189.0      2696.09   \n",
       "3      current      M   33      2105.93      18225.0     34763.56   \n",
       "4      current      M   62      3269.00       3532.0      3158.40   \n",
       "\n",
       "   dc_cons_may  cc_cons_jun  dc_cons_jun  cc_count_apr  cc_count_may  \\\n",
       "0       676.50      9146.10     15479.00           4.0          10.0   \n",
       "1      2463.92     10947.50       956.00           3.0          10.0   \n",
       "2       766.00       716.00      4133.22           7.0          30.0   \n",
       "3       167.00      4260.27     20185.00           1.0          99.0   \n",
       "4      2699.77      3373.48      5120.00           2.0          10.0   \n",
       "\n",
       "   cc_count_jun  dc_count_apr  dc_count_may  dc_count_jun  card_lim  \\\n",
       "0           4.0          47.0          56.0           6.0  125000.0   \n",
       "1           4.0          50.0          38.0          31.0   59000.0   \n",
       "2           5.0          24.0          27.0           2.0   49999.0   \n",
       "3          71.0           5.0           1.0          11.0  520000.0   \n",
       "4          47.0           5.0          25.0           1.0  152000.0   \n",
       "\n",
       "   investment_1  investment_2  investment_3  investment_4  debit_amount_apr  \\\n",
       "0         13.80     376600.50        1633.0   -5715.49023          27646.84   \n",
       "1     101891.25     470000.00         891.0   35346.00000          32247.25   \n",
       "2      53374.97     674291.83       54101.0    2557.00000          63169.00   \n",
       "3       9118.35     470000.00        5905.0    5464.00000          39442.80   \n",
       "4   12850544.36        101.24      130000.0    1332.00000           8937.00   \n",
       "\n",
       "   credit_amount_apr  debit_count_apr  credit_count_apr  \\\n",
       "0           44341.00             16.0              36.0   \n",
       "1           21946.00             42.0               5.0   \n",
       "2           36616.50             41.0               6.0   \n",
       "3           43173.38             46.0               1.0   \n",
       "4           15232.00             11.0               1.0   \n",
       "\n",
       "   max_credit_amount_apr  debit_amount_may  credit_amount_may  \\\n",
       "0                24485.0          23512.67            41755.0   \n",
       "1                 3375.0          15049.44           130299.0   \n",
       "2                14950.0         133659.00            40422.0   \n",
       "3               235844.0          99686.03            48148.0   \n",
       "4                14495.0         190374.25            25926.0   \n",
       "\n",
       "   credit_count_may  debit_count_may  max_credit_amount_may  debit_amount_jun  \\\n",
       "0              24.0             20.0                 9750.0          30527.88   \n",
       "1              43.0             40.0                16967.0          14342.83   \n",
       "2              42.0             35.0                36398.0          32503.16   \n",
       "3               3.0              5.0                97825.0          93572.42   \n",
       "4              70.0             75.0                27936.0          19011.50   \n",
       "\n",
       "   credit_amount_jun  credit_count_jun  debit_count_jun  \\\n",
       "0           31271.00               3.0             12.0   \n",
       "1           16582.00               6.0             39.0   \n",
       "2           33539.54               5.0              9.0   \n",
       "3          109429.75              21.0              0.0   \n",
       "4           41401.00               6.0             35.0   \n",
       "\n",
       "   max_credit_amount_jun  emi_active  \n",
       "0               25945.92     1170.49  \n",
       "1               12214.00    16447.45  \n",
       "2               13215.00     2622.28  \n",
       "3               72317.00      340.79  \n",
       "4               42344.00     2812.20  "
      ]
     },
     "execution_count": 129,
     "metadata": {},
     "output_type": "execute_result"
    }
   ],
   "source": [
    "test.head()"
   ]
  },
  {
   "cell_type": "markdown",
   "metadata": {},
   "source": [
    "### Train & Fit models"
   ]
  },
  {
   "cell_type": "code",
   "execution_count": 57,
   "metadata": {},
   "outputs": [],
   "source": [
    "X = train.drop(['cc_cons'], 1)\n",
    "y = train['cc_cons']"
   ]
  },
  {
   "cell_type": "code",
   "execution_count": 58,
   "metadata": {},
   "outputs": [],
   "source": [
    "X_train, X_test, y_train, y_test = train_test_split(X, y, test_size = 0.25, random_state = 0)"
   ]
  },
  {
   "cell_type": "code",
   "execution_count": 59,
   "metadata": {},
   "outputs": [
    {
     "data": {
      "text/plain": [
       "((11190, 38), (3731, 38), (11190,), (3731,))"
      ]
     },
     "execution_count": 59,
     "metadata": {},
     "output_type": "execute_result"
    }
   ],
   "source": [
    "X_train.shape, X_test.shape, y_train.shape, y_test.shape"
   ]
  },
  {
   "cell_type": "code",
   "execution_count": 60,
   "metadata": {},
   "outputs": [],
   "source": [
    "def rmsle(actual_column, predicted_column):\n",
    "    sum=0.0\n",
    "    for x,y in zip(actual_column,predicted_column):\n",
    "        if x<0 or y<0: #check for negative values. \n",
    "            continue\n",
    "        p = np.log(y+1)\n",
    "        r = np.log(x+1)\n",
    "        sum = sum + (p- r)**2\n",
    "    return (sum/len(predicted_column))**0.5"
   ]
  },
  {
   "cell_type": "code",
   "execution_count": 61,
   "metadata": {},
   "outputs": [],
   "source": [
    "from sklearn.linear_model import LinearRegression"
   ]
  },
  {
   "cell_type": "code",
   "execution_count": 62,
   "metadata": {},
   "outputs": [
    {
     "data": {
      "text/plain": [
       "-0.0020173203705546984"
      ]
     },
     "execution_count": 62,
     "metadata": {},
     "output_type": "execute_result"
    }
   ],
   "source": [
    "liear_reg = LinearRegression()\n",
    "score_liear_reg=cross_val_score(liear_reg, X, y, cv=10)\n",
    "score_liear_reg.mean()"
   ]
  },
  {
   "cell_type": "code",
   "execution_count": 63,
   "metadata": {},
   "outputs": [
    {
     "data": {
      "text/plain": [
       "LinearRegression(copy_X=True, fit_intercept=True, n_jobs=None, normalize=False)"
      ]
     },
     "execution_count": 63,
     "metadata": {},
     "output_type": "execute_result"
    }
   ],
   "source": [
    "liear_reg.fit(X, y)"
   ]
  },
  {
   "cell_type": "code",
   "execution_count": 64,
   "metadata": {},
   "outputs": [
    {
     "data": {
      "text/plain": [
       "0.002970696703883946"
      ]
     },
     "execution_count": 64,
     "metadata": {},
     "output_type": "execute_result"
    }
   ],
   "source": [
    "liear_reg.score(X, y)"
   ]
  },
  {
   "cell_type": "code",
   "execution_count": 68,
   "metadata": {},
   "outputs": [],
   "source": [
    "y_pred_liear_reg = liear_reg.predict(X)"
   ]
  },
  {
   "cell_type": "code",
   "execution_count": 69,
   "metadata": {},
   "outputs": [
    {
     "name": "stdout",
     "output_type": "stream",
     "text": [
      "1.1572660540692659\n",
      "2.5870049998723497\n",
      "1.6084169235221164\n"
     ]
    }
   ],
   "source": [
    "print(mean_absolute_error(y, y_pred_liear_reg))\n",
    "print(mean_squared_error(y, y_pred_liear_reg))\n",
    "print(sqrt(mean_squared_error(y, y_pred_liear_reg)))"
   ]
  },
  {
   "cell_type": "code",
   "execution_count": 70,
   "metadata": {},
   "outputs": [
    {
     "data": {
      "text/plain": [
       "0.15817984955037062"
      ]
     },
     "execution_count": 70,
     "metadata": {},
     "output_type": "execute_result"
    }
   ],
   "source": [
    "rmsle(y, y_pred_liear_reg)"
   ]
  },
  {
   "cell_type": "code",
   "execution_count": null,
   "metadata": {},
   "outputs": [],
   "source": []
  },
  {
   "cell_type": "code",
   "execution_count": null,
   "metadata": {},
   "outputs": [],
   "source": []
  },
  {
   "cell_type": "code",
   "execution_count": 71,
   "metadata": {},
   "outputs": [],
   "source": [
    "# knn_scores = []\n",
    "# for k in range(1,21):\n",
    "#     knn_reg = KNeighborsRegressor(n_neighbors = k)\n",
    "#     score=cross_val_score(knn_reg,X,y,cv=10)\n",
    "#     knn_scores.append(score.mean())\n",
    "# knn_scores"
   ]
  },
  {
   "cell_type": "code",
   "execution_count": 72,
   "metadata": {},
   "outputs": [],
   "source": [
    "# plt.figure(figsize = (15, 5))\n",
    "# plt.plot([k for k in range(1, 21)], knn_scores, color = 'red')\n",
    "# for i in range(1,21):\n",
    "#     plt.text(i, knn_scores[i-1], (i, knn_scores[i-1]))\n",
    "# plt.xticks([i for i in range(1, 21)])\n",
    "# plt.xlabel('Number of Neighbors (K)')\n",
    "# plt.ylabel('Scores')\n",
    "# plt.title('K Neighbors Classifier scores for different K values')"
   ]
  },
  {
   "cell_type": "code",
   "execution_count": null,
   "metadata": {},
   "outputs": [],
   "source": []
  },
  {
   "cell_type": "code",
   "execution_count": 73,
   "metadata": {},
   "outputs": [
    {
     "data": {
      "text/plain": [
       "-0.49985526272756003"
      ]
     },
     "execution_count": 73,
     "metadata": {},
     "output_type": "execute_result"
    }
   ],
   "source": [
    "knn_reg = KNeighborsRegressor(n_neighbors = 2)\n",
    "score_knn_reg=cross_val_score(knn_reg, X, y, cv=10)\n",
    "score_knn_reg.mean()"
   ]
  },
  {
   "cell_type": "code",
   "execution_count": 74,
   "metadata": {},
   "outputs": [
    {
     "data": {
      "text/plain": [
       "KNeighborsRegressor(algorithm='auto', leaf_size=30, metric='minkowski',\n",
       "                    metric_params=None, n_jobs=None, n_neighbors=2, p=2,\n",
       "                    weights='uniform')"
      ]
     },
     "execution_count": 74,
     "metadata": {},
     "output_type": "execute_result"
    }
   ],
   "source": [
    "knn_reg.fit(X, y)"
   ]
  },
  {
   "cell_type": "code",
   "execution_count": 75,
   "metadata": {},
   "outputs": [],
   "source": [
    "y_pred_knn_reg = knn_reg.predict(X)"
   ]
  },
  {
   "cell_type": "code",
   "execution_count": 76,
   "metadata": {},
   "outputs": [
    {
     "name": "stdout",
     "output_type": "stream",
     "text": [
      "0.860117394499361\n",
      "1.27940219363476\n",
      "1.1311066234598575\n"
     ]
    }
   ],
   "source": [
    "print(mean_absolute_error(y, y_pred_knn_reg))\n",
    "print(mean_squared_error(y, y_pred_knn_reg))\n",
    "print(sqrt(mean_squared_error(y, y_pred_knn_reg)))"
   ]
  },
  {
   "cell_type": "code",
   "execution_count": 77,
   "metadata": {},
   "outputs": [
    {
     "data": {
      "text/plain": [
       "0.11182212493045199"
      ]
     },
     "execution_count": 77,
     "metadata": {},
     "output_type": "execute_result"
    }
   ],
   "source": [
    "rmsle(y, y_pred_knn_reg)"
   ]
  },
  {
   "cell_type": "code",
   "execution_count": null,
   "metadata": {},
   "outputs": [],
   "source": []
  },
  {
   "cell_type": "code",
   "execution_count": 78,
   "metadata": {},
   "outputs": [],
   "source": [
    "from sklearn.tree import DecisionTreeRegressor"
   ]
  },
  {
   "cell_type": "code",
   "execution_count": 79,
   "metadata": {},
   "outputs": [
    {
     "name": "stdout",
     "output_type": "stream",
     "text": [
      "-1.158470085798753\n"
     ]
    }
   ],
   "source": [
    "d_tree = DecisionTreeRegressor(random_state=0)\n",
    "score_d_tree=cross_val_score(d_tree, X, y, cv=10)\n",
    "print(score_d_tree.mean())"
   ]
  },
  {
   "cell_type": "code",
   "execution_count": 80,
   "metadata": {},
   "outputs": [
    {
     "data": {
      "text/plain": [
       "DecisionTreeRegressor(criterion='mse', max_depth=None, max_features=None,\n",
       "                      max_leaf_nodes=None, min_impurity_decrease=0.0,\n",
       "                      min_impurity_split=None, min_samples_leaf=1,\n",
       "                      min_samples_split=2, min_weight_fraction_leaf=0.0,\n",
       "                      presort=False, random_state=0, splitter='best')"
      ]
     },
     "execution_count": 80,
     "metadata": {},
     "output_type": "execute_result"
    }
   ],
   "source": [
    "d_tree.fit(X, y)"
   ]
  },
  {
   "cell_type": "code",
   "execution_count": 81,
   "metadata": {},
   "outputs": [
    {
     "data": {
      "text/plain": [
       "0.9999999999141533"
      ]
     },
     "execution_count": 81,
     "metadata": {},
     "output_type": "execute_result"
    }
   ],
   "source": [
    "d_tree.score(X, y)"
   ]
  },
  {
   "cell_type": "code",
   "execution_count": 82,
   "metadata": {},
   "outputs": [],
   "source": [
    "y_pred_d_tree = d_tree.predict(X)"
   ]
  },
  {
   "cell_type": "code",
   "execution_count": 83,
   "metadata": {},
   "outputs": [
    {
     "name": "stdout",
     "output_type": "stream",
     "text": [
      "9.886069076514464e-07\n",
      "2.2274730087170942e-10\n",
      "1.4924721132125365e-05\n"
     ]
    }
   ],
   "source": [
    "print(mean_absolute_error(y, y_pred_d_tree))\n",
    "print(mean_squared_error(y, y_pred_d_tree))\n",
    "print(sqrt(mean_squared_error(y, y_pred_d_tree)))"
   ]
  },
  {
   "cell_type": "code",
   "execution_count": 84,
   "metadata": {},
   "outputs": [
    {
     "data": {
      "text/plain": [
       "1.3265412055018827e-06"
      ]
     },
     "execution_count": 84,
     "metadata": {},
     "output_type": "execute_result"
    }
   ],
   "source": [
    "rmsle(y, y_pred_d_tree)"
   ]
  },
  {
   "cell_type": "code",
   "execution_count": null,
   "metadata": {},
   "outputs": [],
   "source": []
  },
  {
   "cell_type": "code",
   "execution_count": 85,
   "metadata": {},
   "outputs": [],
   "source": [
    "from sklearn.ensemble import RandomForestRegressor"
   ]
  },
  {
   "cell_type": "code",
   "execution_count": 86,
   "metadata": {
    "scrolled": true
   },
   "outputs": [
    {
     "name": "stdout",
     "output_type": "stream",
     "text": [
      "-0.11605303275811751\n"
     ]
    }
   ],
   "source": [
    "# rfr = RandomForestRegressor(n_estimators = 10, n_jobs = 100, min_samples_leaf = 100, random_state = 0)\n",
    "rfr = RandomForestRegressor(random_state = 0)\n",
    "score_rfr=cross_val_score(rfr,X,y,cv=10)\n",
    "print(score_rfr.mean())"
   ]
  },
  {
   "cell_type": "code",
   "execution_count": 87,
   "metadata": {},
   "outputs": [
    {
     "data": {
      "text/plain": [
       "RandomForestRegressor(bootstrap=True, criterion='mse', max_depth=None,\n",
       "                      max_features='auto', max_leaf_nodes=None,\n",
       "                      min_impurity_decrease=0.0, min_impurity_split=None,\n",
       "                      min_samples_leaf=1, min_samples_split=2,\n",
       "                      min_weight_fraction_leaf=0.0, n_estimators=10,\n",
       "                      n_jobs=None, oob_score=False, random_state=0, verbose=0,\n",
       "                      warm_start=False)"
      ]
     },
     "execution_count": 87,
     "metadata": {},
     "output_type": "execute_result"
    }
   ],
   "source": [
    "rfr.fit(X, y)"
   ]
  },
  {
   "cell_type": "code",
   "execution_count": 88,
   "metadata": {},
   "outputs": [
    {
     "data": {
      "text/plain": [
       "0.7970849308643186"
      ]
     },
     "execution_count": 88,
     "metadata": {},
     "output_type": "execute_result"
    }
   ],
   "source": [
    "rfr.score(X, y)"
   ]
  },
  {
   "cell_type": "code",
   "execution_count": 89,
   "metadata": {},
   "outputs": [],
   "source": [
    "y_pred_rfr = rfr.predict(X)"
   ]
  },
  {
   "cell_type": "code",
   "execution_count": 90,
   "metadata": {},
   "outputs": [
    {
     "name": "stdout",
     "output_type": "stream",
     "text": [
      "0.525036424223106\n",
      "0.526506389198417\n",
      "0.7256076000142343\n"
     ]
    }
   ],
   "source": [
    "print(mean_absolute_error(y, y_pred_rfr))\n",
    "print(mean_squared_error(y, y_pred_rfr))\n",
    "print(sqrt(mean_squared_error(y, y_pred_rfr)))"
   ]
  },
  {
   "cell_type": "code",
   "execution_count": 91,
   "metadata": {},
   "outputs": [
    {
     "data": {
      "text/plain": [
       "0.07393533304019798"
      ]
     },
     "execution_count": 91,
     "metadata": {},
     "output_type": "execute_result"
    }
   ],
   "source": [
    "rmsle(y, y_pred_rfr)"
   ]
  },
  {
   "cell_type": "code",
   "execution_count": null,
   "metadata": {},
   "outputs": [],
   "source": []
  },
  {
   "cell_type": "code",
   "execution_count": 92,
   "metadata": {},
   "outputs": [],
   "source": [
    "from xgboost import XGBRegressor\n",
    "parameters={'learning_rate':[0.1,0.15,0.2,0.25,0.3],\n",
    "            'max_depth':range(1,3)}"
   ]
  },
  {
   "cell_type": "code",
   "execution_count": 93,
   "metadata": {
    "scrolled": true
   },
   "outputs": [
    {
     "name": "stdout",
     "output_type": "stream",
     "text": [
      "[14:29:20] WARNING: C:/Jenkins/workspace/xgboost-win64_release_0.90/src/objective/regression_obj.cu:152: reg:linear is now deprecated in favor of reg:squarederror.\n",
      "[14:29:24] WARNING: C:/Jenkins/workspace/xgboost-win64_release_0.90/src/objective/regression_obj.cu:152: reg:linear is now deprecated in favor of reg:squarederror.\n",
      "[14:29:27] WARNING: C:/Jenkins/workspace/xgboost-win64_release_0.90/src/objective/regression_obj.cu:152: reg:linear is now deprecated in favor of reg:squarederror.\n",
      "[14:29:30] WARNING: C:/Jenkins/workspace/xgboost-win64_release_0.90/src/objective/regression_obj.cu:152: reg:linear is now deprecated in favor of reg:squarederror.\n",
      "[14:29:33] WARNING: C:/Jenkins/workspace/xgboost-win64_release_0.90/src/objective/regression_obj.cu:152: reg:linear is now deprecated in favor of reg:squarederror.\n",
      "[14:29:36] WARNING: C:/Jenkins/workspace/xgboost-win64_release_0.90/src/objective/regression_obj.cu:152: reg:linear is now deprecated in favor of reg:squarederror.\n",
      "[14:29:40] WARNING: C:/Jenkins/workspace/xgboost-win64_release_0.90/src/objective/regression_obj.cu:152: reg:linear is now deprecated in favor of reg:squarederror.\n",
      "[14:29:43] WARNING: C:/Jenkins/workspace/xgboost-win64_release_0.90/src/objective/regression_obj.cu:152: reg:linear is now deprecated in favor of reg:squarederror.\n",
      "[14:29:46] WARNING: C:/Jenkins/workspace/xgboost-win64_release_0.90/src/objective/regression_obj.cu:152: reg:linear is now deprecated in favor of reg:squarederror.\n",
      "[14:29:49] WARNING: C:/Jenkins/workspace/xgboost-win64_release_0.90/src/objective/regression_obj.cu:152: reg:linear is now deprecated in favor of reg:squarederror.\n",
      "-0.11605303275811751\n"
     ]
    }
   ],
   "source": [
    "xgb = XGBRegressor(random_state = 0)\n",
    "score_xgb=cross_val_score(xgb,X,y,cv=10)\n",
    "print(score_rfr.mean())"
   ]
  },
  {
   "cell_type": "code",
   "execution_count": 94,
   "metadata": {},
   "outputs": [
    {
     "name": "stdout",
     "output_type": "stream",
     "text": [
      "[14:29:53] WARNING: C:/Jenkins/workspace/xgboost-win64_release_0.90/src/objective/regression_obj.cu:152: reg:linear is now deprecated in favor of reg:squarederror.\n"
     ]
    },
    {
     "data": {
      "text/plain": [
       "XGBRegressor(base_score=0.5, booster='gbtree', colsample_bylevel=1,\n",
       "             colsample_bynode=1, colsample_bytree=1, gamma=0,\n",
       "             importance_type='gain', learning_rate=0.1, max_delta_step=0,\n",
       "             max_depth=3, min_child_weight=1, missing=None, n_estimators=100,\n",
       "             n_jobs=1, nthread=None, objective='reg:linear', random_state=0,\n",
       "             reg_alpha=0, reg_lambda=1, scale_pos_weight=1, seed=None,\n",
       "             silent=None, subsample=1, verbosity=1)"
      ]
     },
     "execution_count": 94,
     "metadata": {},
     "output_type": "execute_result"
    }
   ],
   "source": [
    "xgb.fit(X, y)"
   ]
  },
  {
   "cell_type": "code",
   "execution_count": 95,
   "metadata": {},
   "outputs": [
    {
     "data": {
      "text/plain": [
       "0.05472703662496114"
      ]
     },
     "execution_count": 95,
     "metadata": {},
     "output_type": "execute_result"
    }
   ],
   "source": [
    "xgb.score(X, y)"
   ]
  },
  {
   "cell_type": "code",
   "execution_count": 96,
   "metadata": {},
   "outputs": [],
   "source": [
    "y_pred_xgb = xgb.predict(X)"
   ]
  },
  {
   "cell_type": "code",
   "execution_count": 97,
   "metadata": {},
   "outputs": [
    {
     "name": "stdout",
     "output_type": "stream",
     "text": [
      "1.128599050321346\n",
      "2.452712146384218\n",
      "1.5661137079995877\n"
     ]
    }
   ],
   "source": [
    "print(mean_absolute_error(y, y_pred_xgb))\n",
    "print(mean_squared_error(y, y_pred_xgb))\n",
    "print(sqrt(mean_squared_error(y, y_pred_xgb)))"
   ]
  },
  {
   "cell_type": "code",
   "execution_count": 98,
   "metadata": {},
   "outputs": [
    {
     "data": {
      "text/plain": [
       "0.15421924590663083"
      ]
     },
     "execution_count": 98,
     "metadata": {},
     "output_type": "execute_result"
    }
   ],
   "source": [
    "rmsle(y, y_pred_xgb)"
   ]
  },
  {
   "cell_type": "code",
   "execution_count": 99,
   "metadata": {},
   "outputs": [],
   "source": [
    "from sklearn.linear_model import Ridge"
   ]
  },
  {
   "cell_type": "code",
   "execution_count": 100,
   "metadata": {},
   "outputs": [
    {
     "name": "stdout",
     "output_type": "stream",
     "text": [
      "-0.0020172622261107167\n"
     ]
    }
   ],
   "source": [
    "ridge = Ridge()\n",
    "score_ridge = cross_val_score(ridge, X, y, cv = 10)\n",
    "print(score_ridge.mean())"
   ]
  },
  {
   "cell_type": "code",
   "execution_count": 101,
   "metadata": {},
   "outputs": [
    {
     "data": {
      "text/plain": [
       "Ridge(alpha=1.0, copy_X=True, fit_intercept=True, max_iter=None,\n",
       "      normalize=False, random_state=None, solver='auto', tol=0.001)"
      ]
     },
     "execution_count": 101,
     "metadata": {},
     "output_type": "execute_result"
    }
   ],
   "source": [
    "ridge.fit(X, y)"
   ]
  },
  {
   "cell_type": "code",
   "execution_count": 102,
   "metadata": {},
   "outputs": [
    {
     "data": {
      "text/plain": [
       "0.0029706967015079577"
      ]
     },
     "execution_count": 102,
     "metadata": {},
     "output_type": "execute_result"
    }
   ],
   "source": [
    "ridge.score(X, y)"
   ]
  },
  {
   "cell_type": "code",
   "execution_count": 103,
   "metadata": {},
   "outputs": [],
   "source": [
    "y_pred_ridge = ridge.predict(X)"
   ]
  },
  {
   "cell_type": "code",
   "execution_count": 104,
   "metadata": {},
   "outputs": [
    {
     "name": "stdout",
     "output_type": "stream",
     "text": [
      "1.157266020551789\n",
      "2.587004999878515\n",
      "1.6084169235240329\n"
     ]
    }
   ],
   "source": [
    "print(mean_absolute_error(y, y_pred_ridge))\n",
    "print(mean_squared_error(y, y_pred_ridge))\n",
    "print(sqrt(mean_squared_error(y, y_pred_ridge)))"
   ]
  },
  {
   "cell_type": "code",
   "execution_count": 105,
   "metadata": {},
   "outputs": [
    {
     "data": {
      "text/plain": [
       "0.1581798499449001"
      ]
     },
     "execution_count": 105,
     "metadata": {},
     "output_type": "execute_result"
    }
   ],
   "source": [
    "rmsle(y, y_pred_ridge)"
   ]
  },
  {
   "cell_type": "code",
   "execution_count": null,
   "metadata": {},
   "outputs": [],
   "source": []
  },
  {
   "cell_type": "code",
   "execution_count": null,
   "metadata": {},
   "outputs": [],
   "source": []
  },
  {
   "cell_type": "code",
   "execution_count": 106,
   "metadata": {},
   "outputs": [],
   "source": [
    "from sklearn.linear_model import Lasso"
   ]
  },
  {
   "cell_type": "code",
   "execution_count": 107,
   "metadata": {},
   "outputs": [
    {
     "name": "stdout",
     "output_type": "stream",
     "text": [
      "-0.001110972657700804\n"
     ]
    }
   ],
   "source": [
    "lasso = Lasso()\n",
    "score_lasso = cross_val_score(lasso, X, y, cv = 10)\n",
    "print(score_lasso.mean())"
   ]
  },
  {
   "cell_type": "code",
   "execution_count": 108,
   "metadata": {},
   "outputs": [
    {
     "data": {
      "text/plain": [
       "Lasso(alpha=1.0, copy_X=True, fit_intercept=True, max_iter=1000,\n",
       "      normalize=False, positive=False, precompute=False, random_state=None,\n",
       "      selection='cyclic', tol=0.0001, warm_start=False)"
      ]
     },
     "execution_count": 108,
     "metadata": {},
     "output_type": "execute_result"
    }
   ],
   "source": [
    "lasso.fit(X, y)"
   ]
  },
  {
   "cell_type": "code",
   "execution_count": 109,
   "metadata": {},
   "outputs": [
    {
     "data": {
      "text/plain": [
       "0.0022834618914738813"
      ]
     },
     "execution_count": 109,
     "metadata": {},
     "output_type": "execute_result"
    }
   ],
   "source": [
    "lasso.score(X,y)"
   ]
  },
  {
   "cell_type": "code",
   "execution_count": 110,
   "metadata": {},
   "outputs": [],
   "source": [
    "y_pred_lasso = ridge.predict(X)"
   ]
  },
  {
   "cell_type": "code",
   "execution_count": 111,
   "metadata": {},
   "outputs": [
    {
     "name": "stdout",
     "output_type": "stream",
     "text": [
      "1.157266020551789\n",
      "2.587004999878515\n",
      "1.6084169235240329\n"
     ]
    }
   ],
   "source": [
    "print(mean_absolute_error(y, y_pred_lasso))\n",
    "print(mean_squared_error(y, y_pred_lasso))\n",
    "print(sqrt(mean_squared_error(y, y_pred_lasso)))"
   ]
  },
  {
   "cell_type": "code",
   "execution_count": 112,
   "metadata": {},
   "outputs": [
    {
     "data": {
      "text/plain": [
       "0.1581798499449001"
      ]
     },
     "execution_count": 112,
     "metadata": {},
     "output_type": "execute_result"
    }
   ],
   "source": [
    "rmsle(y, y_pred_lasso)"
   ]
  },
  {
   "cell_type": "markdown",
   "metadata": {},
   "source": [
    "### Model Performance"
   ]
  },
  {
   "cell_type": "code",
   "execution_count": 113,
   "metadata": {
    "scrolled": false
   },
   "outputs": [
    {
     "data": {
      "text/plain": [
       "Text(0.5,1,'Scores of Models')"
      ]
     },
     "execution_count": 113,
     "metadata": {},
     "output_type": "execute_result"
    },
    {
     "data": {
      "image/png": "[encoded data removed]",
      "text/plain": [
       "<Figure size 1080x360 with 1 Axes>"
      ]
     },
     "metadata": {
      "needs_background": "light"
     },
     "output_type": "display_data"
    }
   ],
   "source": [
    "# Plot the model performance with the line plot\n",
    "\n",
    "plt.figure(figsize = (15, 5))\n",
    "sns.pointplot(x = ['liear_reg', 'knn_reg', 'd_tree_reg', 'rfr', 'xgb', 'ridge', 'lasso'], y = [1.608416, 1.131106, 1.492472, 0.725607, 1.566113, 1.608416, 1.608416], markers=['o'], linestyles=['-'])\n",
    "plt.ylabel('Score (RMSE)', size=20, labelpad=12.5)\n",
    "plt.xlabel('Models', size=20, labelpad=12.5)\n",
    "plt.tick_params(axis='x', labelsize=13.5)\n",
    "plt.tick_params(axis='y', labelsize=12.5)\n",
    "\n",
    "plt.title('Scores of Models', size=20)"
   ]
  },
  {
   "cell_type": "markdown",
   "metadata": {},
   "source": [
    "By depicted the line plot for the model perfotmance we can observe that RandomaForestRegressor model has given the best performance. Hence we will use the RandomForest model for the prediction on X_test dataset."
   ]
  },
  {
   "cell_type": "markdown",
   "metadata": {},
   "source": [
    "### Make Prediction"
   ]
  },
  {
   "cell_type": "code",
   "execution_count": 153,
   "metadata": {},
   "outputs": [],
   "source": [
    "# making prediction on test dataset\n",
    "\n",
    "predictions = rfr.predict(test)"
   ]
  },
  {
   "cell_type": "code",
   "execution_count": 171,
   "metadata": {},
   "outputs": [
    {
     "name": "stdout",
     "output_type": "stream",
     "text": [
      "[ 9.10865638  9.82463439  9.52527695 ...  9.35497945 10.09210402\n",
      "  9.88766048]\n"
     ]
    }
   ],
   "source": [
    "# displaying predicted values\n",
    "\n",
    "print(predictions)"
   ]
  },
  {
   "cell_type": "code",
   "execution_count": 172,
   "metadata": {},
   "outputs": [],
   "source": [
    "# making dataframe of the predicted values\n",
    "\n",
    "df = pd.DataFrame({'cc_cons_pred': predictions})"
   ]
  },
  {
   "cell_type": "code",
   "execution_count": 174,
   "metadata": {},
   "outputs": [
    {
     "data": {
      "text/html": [
       "<div>\n",
       "<style scoped>\n",
       "    .dataframe tbody tr th:only-of-type {\n",
       "        vertical-align: middle;\n",
       "    }\n",
       "\n",
       "    .dataframe tbody tr th {\n",
       "        vertical-align: top;\n",
       "    }\n",
       "\n",
       "    .dataframe thead th {\n",
       "        text-align: right;\n",
       "    }\n",
       "</style>\n",
       "<table border=\"1\" class=\"dataframe\">\n",
       "  <thead>\n",
       "    <tr style=\"text-align: right;\">\n",
       "      <th></th>\n",
       "      <th>cc_cons_pred</th>\n",
       "    </tr>\n",
       "  </thead>\n",
       "  <tbody>\n",
       "    <tr>\n",
       "      <th>0</th>\n",
       "      <td>9.108656</td>\n",
       "    </tr>\n",
       "    <tr>\n",
       "      <th>1</th>\n",
       "      <td>9.824634</td>\n",
       "    </tr>\n",
       "    <tr>\n",
       "      <th>2</th>\n",
       "      <td>9.525277</td>\n",
       "    </tr>\n",
       "    <tr>\n",
       "      <th>3</th>\n",
       "      <td>9.207415</td>\n",
       "    </tr>\n",
       "    <tr>\n",
       "      <th>4</th>\n",
       "      <td>9.194248</td>\n",
       "    </tr>\n",
       "  </tbody>\n",
       "</table>\n",
       "</div>"
      ],
      "text/plain": [
       "   cc_cons_pred\n",
       "0      9.108656\n",
       "1      9.824634\n",
       "2      9.525277\n",
       "3      9.207415\n",
       "4      9.194248"
      ]
     },
     "execution_count": 174,
     "metadata": {},
     "output_type": "execute_result"
    }
   ],
   "source": [
    "# Print first five rows of our predicted data values\n",
    "\n",
    "df.head()"
   ]
  },
  {
   "cell_type": "code",
   "execution_count": 177,
   "metadata": {},
   "outputs": [],
   "source": [
    "# Save the prediction data in a file at the desire location\n",
    "\n",
    "df.to_csv('C:/Users/admin/Desktop/data/Data Sets/Credit card cunsumption/pred_data.csv', index = False)"
   ]
  },
  {
   "cell_type": "code",
   "execution_count": 178,
   "metadata": {},
   "outputs": [],
   "source": [
    "# Read the saved precticted file at the location 'C:/Users/admin/Desktop/data/Data Sets/Credit card cunsumption/pred_data.csv'\n",
    "\n",
    "data = pd.read_csv('C:/Users/admin/Desktop/data/Data Sets/Credit card cunsumption/pred_data.csv')"
   ]
  },
  {
   "cell_type": "code",
   "execution_count": 180,
   "metadata": {},
   "outputs": [
    {
     "data": {
      "text/html": [
       "<div>\n",
       "<style scoped>\n",
       "    .dataframe tbody tr th:only-of-type {\n",
       "        vertical-align: middle;\n",
       "    }\n",
       "\n",
       "    .dataframe tbody tr th {\n",
       "        vertical-align: top;\n",
       "    }\n",
       "\n",
       "    .dataframe thead th {\n",
       "        text-align: right;\n",
       "    }\n",
       "</style>\n",
       "<table border=\"1\" class=\"dataframe\">\n",
       "  <thead>\n",
       "    <tr style=\"text-align: right;\">\n",
       "      <th></th>\n",
       "      <th>cc_cons_pred</th>\n",
       "    </tr>\n",
       "  </thead>\n",
       "  <tbody>\n",
       "    <tr>\n",
       "      <th>0</th>\n",
       "      <td>9.108656</td>\n",
       "    </tr>\n",
       "    <tr>\n",
       "      <th>1</th>\n",
       "      <td>9.824634</td>\n",
       "    </tr>\n",
       "    <tr>\n",
       "      <th>2</th>\n",
       "      <td>9.525277</td>\n",
       "    </tr>\n",
       "    <tr>\n",
       "      <th>3</th>\n",
       "      <td>9.207415</td>\n",
       "    </tr>\n",
       "    <tr>\n",
       "      <th>4</th>\n",
       "      <td>9.194248</td>\n",
       "    </tr>\n",
       "  </tbody>\n",
       "</table>\n",
       "</div>"
      ],
      "text/plain": [
       "   cc_cons_pred\n",
       "0      9.108656\n",
       "1      9.824634\n",
       "2      9.525277\n",
       "3      9.207415\n",
       "4      9.194248"
      ]
     },
     "execution_count": 180,
     "metadata": {},
     "output_type": "execute_result"
    }
   ],
   "source": [
    "# Print first five rows of our saved predicted file \n",
    "\n",
    "data.head()"
   ]
  },
  {
   "cell_type": "markdown",
   "metadata": {},
   "source": [
    "# --------------------------------------------Thank You-------------------------------------------------"
   ]
  }
 ],
 "metadata": {
  "kernelspec": {
   "display_name": "Python 3",
   "language": "python",
   "name": "python3"
  },
  "language_info": {
   "codemirror_mode": {
    "name": "ipython",
    "version": 3
   },
   "file_extension": ".py",
   "mimetype": "text/x-python",
   "name": "python",
   "nbconvert_exporter": "python",
   "pygments_lexer": "ipython3",
   "version": "3.7.1"
  }
 },
 "nbformat": 4,
 "nbformat_minor": 2
}
